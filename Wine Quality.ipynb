{
 "cells": [
  {
   "cell_type": "code",
   "execution_count": 1,
   "metadata": {},
   "outputs": [],
   "source": [
    "# import necessary dependencies\n",
    "import pandas as pd\n",
    "import numpy as np\n",
    "import matplotlib.pyplot as plt\n",
    "import seaborn as sns\n",
    "sns.set()\n",
    "\n",
    "%matplotlib inline"
   ]
  },
  {
   "cell_type": "code",
   "execution_count": 2,
   "metadata": {},
   "outputs": [],
   "source": [
    "# set display options\n",
    "pd.set_option(\"display.max_columns\", 300)\n",
    "pd.set_option(\"display.max_rows\", 500)"
   ]
  },
  {
   "cell_type": "code",
   "execution_count": 17,
   "metadata": {},
   "outputs": [],
   "source": [
    "# read in the data\n",
    "wine = pd.read_csv(\"./datasets/winequalityN.csv\")"
   ]
  },
  {
   "cell_type": "code",
   "execution_count": 18,
   "metadata": {
    "scrolled": true
   },
   "outputs": [
    {
     "data": {
      "text/html": [
       "<div>\n",
       "<style scoped>\n",
       "    .dataframe tbody tr th:only-of-type {\n",
       "        vertical-align: middle;\n",
       "    }\n",
       "\n",
       "    .dataframe tbody tr th {\n",
       "        vertical-align: top;\n",
       "    }\n",
       "\n",
       "    .dataframe thead th {\n",
       "        text-align: right;\n",
       "    }\n",
       "</style>\n",
       "<table border=\"1\" class=\"dataframe\">\n",
       "  <thead>\n",
       "    <tr style=\"text-align: right;\">\n",
       "      <th></th>\n",
       "      <th>type</th>\n",
       "      <th>fixed acidity</th>\n",
       "      <th>volatile acidity</th>\n",
       "      <th>citric acid</th>\n",
       "      <th>residual sugar</th>\n",
       "      <th>chlorides</th>\n",
       "      <th>free sulfur dioxide</th>\n",
       "      <th>total sulfur dioxide</th>\n",
       "      <th>density</th>\n",
       "      <th>pH</th>\n",
       "      <th>sulphates</th>\n",
       "      <th>alcohol</th>\n",
       "      <th>quality</th>\n",
       "    </tr>\n",
       "  </thead>\n",
       "  <tbody>\n",
       "    <tr>\n",
       "      <th>0</th>\n",
       "      <td>white</td>\n",
       "      <td>7.0</td>\n",
       "      <td>0.27</td>\n",
       "      <td>0.36</td>\n",
       "      <td>20.7</td>\n",
       "      <td>0.045</td>\n",
       "      <td>45.0</td>\n",
       "      <td>170.0</td>\n",
       "      <td>1.0010</td>\n",
       "      <td>3.00</td>\n",
       "      <td>0.45</td>\n",
       "      <td>8.8</td>\n",
       "      <td>6</td>\n",
       "    </tr>\n",
       "    <tr>\n",
       "      <th>1</th>\n",
       "      <td>white</td>\n",
       "      <td>6.3</td>\n",
       "      <td>0.30</td>\n",
       "      <td>0.34</td>\n",
       "      <td>1.6</td>\n",
       "      <td>0.049</td>\n",
       "      <td>14.0</td>\n",
       "      <td>132.0</td>\n",
       "      <td>0.9940</td>\n",
       "      <td>3.30</td>\n",
       "      <td>0.49</td>\n",
       "      <td>9.5</td>\n",
       "      <td>6</td>\n",
       "    </tr>\n",
       "    <tr>\n",
       "      <th>2</th>\n",
       "      <td>white</td>\n",
       "      <td>8.1</td>\n",
       "      <td>0.28</td>\n",
       "      <td>0.40</td>\n",
       "      <td>6.9</td>\n",
       "      <td>0.050</td>\n",
       "      <td>30.0</td>\n",
       "      <td>97.0</td>\n",
       "      <td>0.9951</td>\n",
       "      <td>3.26</td>\n",
       "      <td>0.44</td>\n",
       "      <td>10.1</td>\n",
       "      <td>6</td>\n",
       "    </tr>\n",
       "    <tr>\n",
       "      <th>3</th>\n",
       "      <td>white</td>\n",
       "      <td>7.2</td>\n",
       "      <td>0.23</td>\n",
       "      <td>0.32</td>\n",
       "      <td>8.5</td>\n",
       "      <td>0.058</td>\n",
       "      <td>47.0</td>\n",
       "      <td>186.0</td>\n",
       "      <td>0.9956</td>\n",
       "      <td>3.19</td>\n",
       "      <td>0.40</td>\n",
       "      <td>9.9</td>\n",
       "      <td>6</td>\n",
       "    </tr>\n",
       "    <tr>\n",
       "      <th>4</th>\n",
       "      <td>white</td>\n",
       "      <td>7.2</td>\n",
       "      <td>0.23</td>\n",
       "      <td>0.32</td>\n",
       "      <td>8.5</td>\n",
       "      <td>0.058</td>\n",
       "      <td>47.0</td>\n",
       "      <td>186.0</td>\n",
       "      <td>0.9956</td>\n",
       "      <td>3.19</td>\n",
       "      <td>0.40</td>\n",
       "      <td>9.9</td>\n",
       "      <td>6</td>\n",
       "    </tr>\n",
       "  </tbody>\n",
       "</table>\n",
       "</div>"
      ],
      "text/plain": [
       "    type  fixed acidity  volatile acidity  citric acid  residual sugar  \\\n",
       "0  white            7.0              0.27         0.36            20.7   \n",
       "1  white            6.3              0.30         0.34             1.6   \n",
       "2  white            8.1              0.28         0.40             6.9   \n",
       "3  white            7.2              0.23         0.32             8.5   \n",
       "4  white            7.2              0.23         0.32             8.5   \n",
       "\n",
       "   chlorides  free sulfur dioxide  total sulfur dioxide  density    pH  \\\n",
       "0      0.045                 45.0                 170.0   1.0010  3.00   \n",
       "1      0.049                 14.0                 132.0   0.9940  3.30   \n",
       "2      0.050                 30.0                  97.0   0.9951  3.26   \n",
       "3      0.058                 47.0                 186.0   0.9956  3.19   \n",
       "4      0.058                 47.0                 186.0   0.9956  3.19   \n",
       "\n",
       "   sulphates  alcohol  quality  \n",
       "0       0.45      8.8        6  \n",
       "1       0.49      9.5        6  \n",
       "2       0.44     10.1        6  \n",
       "3       0.40      9.9        6  \n",
       "4       0.40      9.9        6  "
      ]
     },
     "execution_count": 18,
     "metadata": {},
     "output_type": "execute_result"
    }
   ],
   "source": [
    "# check if data has been loaded correctly\n",
    "wine.head(5)"
   ]
  },
  {
   "cell_type": "code",
   "execution_count": 19,
   "metadata": {},
   "outputs": [],
   "source": [
    "# Create a copy of the dataset \n",
    "wine_copy = wine.copy()"
   ]
  },
  {
   "cell_type": "code",
   "execution_count": 20,
   "metadata": {},
   "outputs": [
    {
     "data": {
      "text/plain": [
       "(6497, 13)"
      ]
     },
     "execution_count": 20,
     "metadata": {},
     "output_type": "execute_result"
    }
   ],
   "source": [
    "# check the shape of the data\n",
    "wine.shape"
   ]
  },
  {
   "cell_type": "markdown",
   "metadata": {},
   "source": [
    "#### Initial Observations:\n",
    "* There seems to be duplicated values in the data e.g observation 3 and 4"
   ]
  },
  {
   "cell_type": "markdown",
   "metadata": {},
   "source": [
    "### Data Exploration"
   ]
  },
  {
   "cell_type": "markdown",
   "metadata": {},
   "source": [
    "#### Questions to answer\n",
    "* What's the average composition (median) of the physicochemical properties in red and white wines?\n",
    "\n",
    "* Can we identify or classify a wine as red or white based on the physicochemical properties\n",
    "\n",
    "* How do the the physicochemical properties relate with one another and how do they ultimately influence the wine quality\n",
    "\n",
    "* With concerns on high chloride content (saltiness) and negative impact of sulphites, how do these affect the quality of the wine\n",
    "\n",
    "* What's the portion of FSO2 in TSO2 and how does it affect other physicochemical properties esp (pH, acidity) and quality\n",
    "\n",
    "* What physicochemical properties or their combinations define quality wine\n"
   ]
  },
  {
   "cell_type": "markdown",
   "metadata": {},
   "source": [
    "#### Data cleaning"
   ]
  },
  {
   "cell_type": "code",
   "execution_count": 21,
   "metadata": {},
   "outputs": [
    {
     "data": {
      "text/html": [
       "<div>\n",
       "<style scoped>\n",
       "    .dataframe tbody tr th:only-of-type {\n",
       "        vertical-align: middle;\n",
       "    }\n",
       "\n",
       "    .dataframe tbody tr th {\n",
       "        vertical-align: top;\n",
       "    }\n",
       "\n",
       "    .dataframe thead th {\n",
       "        text-align: right;\n",
       "    }\n",
       "</style>\n",
       "<table border=\"1\" class=\"dataframe\">\n",
       "  <thead>\n",
       "    <tr style=\"text-align: right;\">\n",
       "      <th></th>\n",
       "      <th>Total</th>\n",
       "      <th>Percentage</th>\n",
       "    </tr>\n",
       "  </thead>\n",
       "  <tbody>\n",
       "    <tr>\n",
       "      <th>fixed acidity</th>\n",
       "      <td>10</td>\n",
       "      <td>0.153917</td>\n",
       "    </tr>\n",
       "    <tr>\n",
       "      <th>pH</th>\n",
       "      <td>9</td>\n",
       "      <td>0.138525</td>\n",
       "    </tr>\n",
       "    <tr>\n",
       "      <th>volatile acidity</th>\n",
       "      <td>8</td>\n",
       "      <td>0.123134</td>\n",
       "    </tr>\n",
       "    <tr>\n",
       "      <th>sulphates</th>\n",
       "      <td>4</td>\n",
       "      <td>0.061567</td>\n",
       "    </tr>\n",
       "    <tr>\n",
       "      <th>citric acid</th>\n",
       "      <td>3</td>\n",
       "      <td>0.046175</td>\n",
       "    </tr>\n",
       "    <tr>\n",
       "      <th>residual sugar</th>\n",
       "      <td>2</td>\n",
       "      <td>0.030783</td>\n",
       "    </tr>\n",
       "    <tr>\n",
       "      <th>chlorides</th>\n",
       "      <td>2</td>\n",
       "      <td>0.030783</td>\n",
       "    </tr>\n",
       "  </tbody>\n",
       "</table>\n",
       "</div>"
      ],
      "text/plain": [
       "                  Total  Percentage\n",
       "fixed acidity        10    0.153917\n",
       "pH                    9    0.138525\n",
       "volatile acidity      8    0.123134\n",
       "sulphates             4    0.061567\n",
       "citric acid           3    0.046175\n",
       "residual sugar        2    0.030783\n",
       "chlorides             2    0.030783"
      ]
     },
     "execution_count": 21,
     "metadata": {},
     "output_type": "execute_result"
    }
   ],
   "source": [
    "# Check for null values\n",
    "total_nulls = wine.isnull().sum()\n",
    "total_observations = wine.shape[0]\n",
    "\n",
    "null_percentages = total_nulls[total_nulls > 0] / total_observations * 100\n",
    "total_nulls = total_nulls[total_nulls > 0]\n",
    "\n",
    "pd.concat([total_nulls, null_percentages], axis=1, keys=[\"Total\", \"Percentage\"]).sort_values(by=\"Total\", ascending=False)"
   ]
  },
  {
   "cell_type": "markdown",
   "metadata": {},
   "source": [
    "#### Observation\n",
    "* The above columns have null values but none of them has a worrying portion of null values. We'll therefore impute the values using the median of the columns"
   ]
  },
  {
   "cell_type": "code",
   "execution_count": 22,
   "metadata": {},
   "outputs": [],
   "source": [
    "null_cols = [\"fixed acidity\", \"pH\", \"volatile acidity\", \"sulphates\", \"citric acid\", \"residual sugar\", \"chlorides\"]"
   ]
  },
  {
   "cell_type": "markdown",
   "metadata": {},
   "source": [
    "#### Impute null values"
   ]
  },
  {
   "cell_type": "code",
   "execution_count": 23,
   "metadata": {},
   "outputs": [],
   "source": [
    "from sklearn.impute import SimpleImputer"
   ]
  },
  {
   "cell_type": "code",
   "execution_count": 24,
   "metadata": {},
   "outputs": [],
   "source": [
    "# Fill nulls with the median of the column\n",
    "median_imputer = SimpleImputer(strategy=\"median\")\n",
    "\n",
    "for col in null_cols:\n",
    "    wine[col] = median_imputer.fit_transform(wine[col].values.reshape(-1,1)) "
   ]
  },
  {
   "cell_type": "code",
   "execution_count": 25,
   "metadata": {},
   "outputs": [
    {
     "data": {
      "text/plain": [
       "type                    0\n",
       "fixed acidity           0\n",
       "volatile acidity        0\n",
       "citric acid             0\n",
       "residual sugar          0\n",
       "chlorides               0\n",
       "free sulfur dioxide     0\n",
       "total sulfur dioxide    0\n",
       "density                 0\n",
       "pH                      0\n",
       "sulphates               0\n",
       "alcohol                 0\n",
       "quality                 0\n",
       "dtype: int64"
      ]
     },
     "execution_count": 25,
     "metadata": {},
     "output_type": "execute_result"
    }
   ],
   "source": [
    "# Check to ensure nulls were imputed\n",
    "wine.isnull().sum()"
   ]
  },
  {
   "cell_type": "markdown",
   "metadata": {},
   "source": [
    "#### Check for duplicates"
   ]
  },
  {
   "cell_type": "code",
   "execution_count": 30,
   "metadata": {},
   "outputs": [
    {
     "data": {
      "text/plain": [
       "Int64Index([   4,    5,    7,    8,   39,   48,   61,   63,   74,   75,\n",
       "            ...\n",
       "            6418, 6420, 6455, 6458, 6459, 6461, 6462, 6465, 6479, 6494],\n",
       "           dtype='int64', length=1168)"
      ]
     },
     "execution_count": 30,
     "metadata": {},
     "output_type": "execute_result"
    }
   ],
   "source": [
    "# Check for duplicates and keep the first instance\n",
    "duplicates_index = wine[wine.duplicated(keep=\"first\")].index\n",
    "duplicates_index"
   ]
  },
  {
   "cell_type": "code",
   "execution_count": 31,
   "metadata": {},
   "outputs": [],
   "source": [
    "# Drop the duplicated indexes\n",
    "wine.drop(duplicates_index, axis=0, inplace=True)"
   ]
  },
  {
   "cell_type": "code",
   "execution_count": 32,
   "metadata": {},
   "outputs": [
    {
     "data": {
      "text/html": [
       "<div>\n",
       "<style scoped>\n",
       "    .dataframe tbody tr th:only-of-type {\n",
       "        vertical-align: middle;\n",
       "    }\n",
       "\n",
       "    .dataframe tbody tr th {\n",
       "        vertical-align: top;\n",
       "    }\n",
       "\n",
       "    .dataframe thead th {\n",
       "        text-align: right;\n",
       "    }\n",
       "</style>\n",
       "<table border=\"1\" class=\"dataframe\">\n",
       "  <thead>\n",
       "    <tr style=\"text-align: right;\">\n",
       "      <th></th>\n",
       "      <th>type</th>\n",
       "      <th>fixed acidity</th>\n",
       "      <th>volatile acidity</th>\n",
       "      <th>citric acid</th>\n",
       "      <th>residual sugar</th>\n",
       "      <th>chlorides</th>\n",
       "      <th>free sulfur dioxide</th>\n",
       "      <th>total sulfur dioxide</th>\n",
       "      <th>density</th>\n",
       "      <th>pH</th>\n",
       "      <th>sulphates</th>\n",
       "      <th>alcohol</th>\n",
       "      <th>quality</th>\n",
       "    </tr>\n",
       "  </thead>\n",
       "  <tbody>\n",
       "  </tbody>\n",
       "</table>\n",
       "</div>"
      ],
      "text/plain": [
       "Empty DataFrame\n",
       "Columns: [type, fixed acidity, volatile acidity, citric acid, residual sugar, chlorides, free sulfur dioxide, total sulfur dioxide, density, pH, sulphates, alcohol, quality]\n",
       "Index: []"
      ]
     },
     "execution_count": 32,
     "metadata": {},
     "output_type": "execute_result"
    }
   ],
   "source": [
    "# Check to confirm no duplicates\n",
    "wine[wine.duplicated(keep=\"first\")]"
   ]
  },
  {
   "cell_type": "code",
   "execution_count": 33,
   "metadata": {},
   "outputs": [
    {
     "data": {
      "text/plain": [
       "(5329, 13)"
      ]
     },
     "execution_count": 33,
     "metadata": {},
     "output_type": "execute_result"
    }
   ],
   "source": [
    "# Check the new shape of the data\n",
    "wine.shape"
   ]
  },
  {
   "cell_type": "code",
   "execution_count": 34,
   "metadata": {},
   "outputs": [
    {
     "data": {
      "text/html": [
       "<div>\n",
       "<style scoped>\n",
       "    .dataframe tbody tr th:only-of-type {\n",
       "        vertical-align: middle;\n",
       "    }\n",
       "\n",
       "    .dataframe tbody tr th {\n",
       "        vertical-align: top;\n",
       "    }\n",
       "\n",
       "    .dataframe thead th {\n",
       "        text-align: right;\n",
       "    }\n",
       "</style>\n",
       "<table border=\"1\" class=\"dataframe\">\n",
       "  <thead>\n",
       "    <tr style=\"text-align: right;\">\n",
       "      <th></th>\n",
       "      <th>type</th>\n",
       "      <th>fixed acidity</th>\n",
       "      <th>volatile acidity</th>\n",
       "      <th>citric acid</th>\n",
       "      <th>residual sugar</th>\n",
       "      <th>chlorides</th>\n",
       "      <th>free sulfur dioxide</th>\n",
       "      <th>total sulfur dioxide</th>\n",
       "      <th>density</th>\n",
       "      <th>pH</th>\n",
       "      <th>sulphates</th>\n",
       "      <th>alcohol</th>\n",
       "      <th>quality</th>\n",
       "    </tr>\n",
       "  </thead>\n",
       "  <tbody>\n",
       "    <tr>\n",
       "      <th>1927</th>\n",
       "      <td>white</td>\n",
       "      <td>7.1</td>\n",
       "      <td>0.250</td>\n",
       "      <td>0.28</td>\n",
       "      <td>1.6</td>\n",
       "      <td>0.052</td>\n",
       "      <td>46.0</td>\n",
       "      <td>169.0</td>\n",
       "      <td>0.99260</td>\n",
       "      <td>3.05</td>\n",
       "      <td>0.41</td>\n",
       "      <td>10.5</td>\n",
       "      <td>5</td>\n",
       "    </tr>\n",
       "    <tr>\n",
       "      <th>722</th>\n",
       "      <td>white</td>\n",
       "      <td>6.9</td>\n",
       "      <td>0.310</td>\n",
       "      <td>0.34</td>\n",
       "      <td>1.6</td>\n",
       "      <td>0.032</td>\n",
       "      <td>23.0</td>\n",
       "      <td>128.0</td>\n",
       "      <td>0.99170</td>\n",
       "      <td>3.37</td>\n",
       "      <td>0.47</td>\n",
       "      <td>11.7</td>\n",
       "      <td>6</td>\n",
       "    </tr>\n",
       "    <tr>\n",
       "      <th>1713</th>\n",
       "      <td>white</td>\n",
       "      <td>6.6</td>\n",
       "      <td>0.340</td>\n",
       "      <td>0.27</td>\n",
       "      <td>6.2</td>\n",
       "      <td>0.059</td>\n",
       "      <td>23.0</td>\n",
       "      <td>136.0</td>\n",
       "      <td>0.99570</td>\n",
       "      <td>3.30</td>\n",
       "      <td>0.49</td>\n",
       "      <td>10.1</td>\n",
       "      <td>6</td>\n",
       "    </tr>\n",
       "    <tr>\n",
       "      <th>564</th>\n",
       "      <td>white</td>\n",
       "      <td>6.8</td>\n",
       "      <td>0.510</td>\n",
       "      <td>0.30</td>\n",
       "      <td>4.2</td>\n",
       "      <td>0.066</td>\n",
       "      <td>38.0</td>\n",
       "      <td>165.0</td>\n",
       "      <td>0.99450</td>\n",
       "      <td>3.20</td>\n",
       "      <td>0.42</td>\n",
       "      <td>9.1</td>\n",
       "      <td>5</td>\n",
       "    </tr>\n",
       "    <tr>\n",
       "      <th>3647</th>\n",
       "      <td>white</td>\n",
       "      <td>6.4</td>\n",
       "      <td>0.290</td>\n",
       "      <td>0.24</td>\n",
       "      <td>3.2</td>\n",
       "      <td>0.037</td>\n",
       "      <td>31.0</td>\n",
       "      <td>95.0</td>\n",
       "      <td>0.98942</td>\n",
       "      <td>2.90</td>\n",
       "      <td>0.66</td>\n",
       "      <td>12.6</td>\n",
       "      <td>7</td>\n",
       "    </tr>\n",
       "    <tr>\n",
       "      <th>5073</th>\n",
       "      <td>red</td>\n",
       "      <td>6.9</td>\n",
       "      <td>0.500</td>\n",
       "      <td>0.04</td>\n",
       "      <td>1.5</td>\n",
       "      <td>0.085</td>\n",
       "      <td>19.0</td>\n",
       "      <td>49.0</td>\n",
       "      <td>0.99580</td>\n",
       "      <td>3.35</td>\n",
       "      <td>0.78</td>\n",
       "      <td>9.5</td>\n",
       "      <td>5</td>\n",
       "    </tr>\n",
       "    <tr>\n",
       "      <th>1617</th>\n",
       "      <td>white</td>\n",
       "      <td>6.2</td>\n",
       "      <td>0.200</td>\n",
       "      <td>0.49</td>\n",
       "      <td>1.6</td>\n",
       "      <td>0.065</td>\n",
       "      <td>17.0</td>\n",
       "      <td>143.0</td>\n",
       "      <td>0.99370</td>\n",
       "      <td>3.22</td>\n",
       "      <td>0.52</td>\n",
       "      <td>9.2</td>\n",
       "      <td>6</td>\n",
       "    </tr>\n",
       "    <tr>\n",
       "      <th>4650</th>\n",
       "      <td>white</td>\n",
       "      <td>5.6</td>\n",
       "      <td>0.695</td>\n",
       "      <td>0.06</td>\n",
       "      <td>6.8</td>\n",
       "      <td>0.042</td>\n",
       "      <td>9.0</td>\n",
       "      <td>84.0</td>\n",
       "      <td>0.99432</td>\n",
       "      <td>3.44</td>\n",
       "      <td>0.44</td>\n",
       "      <td>10.2</td>\n",
       "      <td>5</td>\n",
       "    </tr>\n",
       "    <tr>\n",
       "      <th>3752</th>\n",
       "      <td>white</td>\n",
       "      <td>6.5</td>\n",
       "      <td>0.260</td>\n",
       "      <td>0.34</td>\n",
       "      <td>1.4</td>\n",
       "      <td>0.040</td>\n",
       "      <td>25.0</td>\n",
       "      <td>184.0</td>\n",
       "      <td>0.99216</td>\n",
       "      <td>3.29</td>\n",
       "      <td>0.46</td>\n",
       "      <td>10.7</td>\n",
       "      <td>5</td>\n",
       "    </tr>\n",
       "    <tr>\n",
       "      <th>2635</th>\n",
       "      <td>white</td>\n",
       "      <td>8.2</td>\n",
       "      <td>0.320</td>\n",
       "      <td>0.26</td>\n",
       "      <td>2.1</td>\n",
       "      <td>0.062</td>\n",
       "      <td>26.0</td>\n",
       "      <td>87.0</td>\n",
       "      <td>0.98974</td>\n",
       "      <td>3.10</td>\n",
       "      <td>0.47</td>\n",
       "      <td>12.8</td>\n",
       "      <td>6</td>\n",
       "    </tr>\n",
       "  </tbody>\n",
       "</table>\n",
       "</div>"
      ],
      "text/plain": [
       "       type  fixed acidity  volatile acidity  citric acid  residual sugar  \\\n",
       "1927  white            7.1             0.250         0.28             1.6   \n",
       "722   white            6.9             0.310         0.34             1.6   \n",
       "1713  white            6.6             0.340         0.27             6.2   \n",
       "564   white            6.8             0.510         0.30             4.2   \n",
       "3647  white            6.4             0.290         0.24             3.2   \n",
       "5073    red            6.9             0.500         0.04             1.5   \n",
       "1617  white            6.2             0.200         0.49             1.6   \n",
       "4650  white            5.6             0.695         0.06             6.8   \n",
       "3752  white            6.5             0.260         0.34             1.4   \n",
       "2635  white            8.2             0.320         0.26             2.1   \n",
       "\n",
       "      chlorides  free sulfur dioxide  total sulfur dioxide  density    pH  \\\n",
       "1927      0.052                 46.0                 169.0  0.99260  3.05   \n",
       "722       0.032                 23.0                 128.0  0.99170  3.37   \n",
       "1713      0.059                 23.0                 136.0  0.99570  3.30   \n",
       "564       0.066                 38.0                 165.0  0.99450  3.20   \n",
       "3647      0.037                 31.0                  95.0  0.98942  2.90   \n",
       "5073      0.085                 19.0                  49.0  0.99580  3.35   \n",
       "1617      0.065                 17.0                 143.0  0.99370  3.22   \n",
       "4650      0.042                  9.0                  84.0  0.99432  3.44   \n",
       "3752      0.040                 25.0                 184.0  0.99216  3.29   \n",
       "2635      0.062                 26.0                  87.0  0.98974  3.10   \n",
       "\n",
       "      sulphates  alcohol  quality  \n",
       "1927       0.41     10.5        5  \n",
       "722        0.47     11.7        6  \n",
       "1713       0.49     10.1        6  \n",
       "564        0.42      9.1        5  \n",
       "3647       0.66     12.6        7  \n",
       "5073       0.78      9.5        5  \n",
       "1617       0.52      9.2        6  \n",
       "4650       0.44     10.2        5  \n",
       "3752       0.46     10.7        5  \n",
       "2635       0.47     12.8        6  "
      ]
     },
     "execution_count": 34,
     "metadata": {},
     "output_type": "execute_result"
    }
   ],
   "source": [
    "wine.sample(10)"
   ]
  },
  {
   "cell_type": "markdown",
   "metadata": {},
   "source": [
    "#### Check to ensure columns have data in the right format"
   ]
  },
  {
   "cell_type": "code",
   "execution_count": 35,
   "metadata": {},
   "outputs": [
    {
     "name": "stdout",
     "output_type": "stream",
     "text": [
      "<class 'pandas.core.frame.DataFrame'>\n",
      "Int64Index: 5329 entries, 0 to 6496\n",
      "Data columns (total 13 columns):\n",
      "type                    5329 non-null object\n",
      "fixed acidity           5329 non-null float64\n",
      "volatile acidity        5329 non-null float64\n",
      "citric acid             5329 non-null float64\n",
      "residual sugar          5329 non-null float64\n",
      "chlorides               5329 non-null float64\n",
      "free sulfur dioxide     5329 non-null float64\n",
      "total sulfur dioxide    5329 non-null float64\n",
      "density                 5329 non-null float64\n",
      "pH                      5329 non-null float64\n",
      "sulphates               5329 non-null float64\n",
      "alcohol                 5329 non-null float64\n",
      "quality                 5329 non-null int64\n",
      "dtypes: float64(11), int64(1), object(1)\n",
      "memory usage: 582.9+ KB\n"
     ]
    }
   ],
   "source": [
    "wine.info()"
   ]
  },
  {
   "cell_type": "markdown",
   "metadata": {},
   "source": [
    "#### Look at the distribution of the data"
   ]
  },
  {
   "cell_type": "code",
   "execution_count": 42,
   "metadata": {},
   "outputs": [
    {
     "name": "stderr",
     "output_type": "stream",
     "text": [
      "C:\\Users\\Kelvin Kinda\\Anaconda3\\lib\\site-packages\\IPython\\core\\interactiveshell.py:2910: UserWarning: To output multiple subplots, the figure containing the passed axes is being cleared\n",
      "  exec(code_obj, self.user_global_ns, self.user_ns)\n"
     ]
    },
    {
     "data": {
      "text/plain": [
       "array([[<matplotlib.axes._subplots.AxesSubplot object at 0x000001D3CECFA550>,\n",
       "        <matplotlib.axes._subplots.AxesSubplot object at 0x000001D3D05B2240>,\n",
       "        <matplotlib.axes._subplots.AxesSubplot object at 0x000001D3CF27A6A0>],\n",
       "       [<matplotlib.axes._subplots.AxesSubplot object at 0x000001D3CF2A4C88>,\n",
       "        <matplotlib.axes._subplots.AxesSubplot object at 0x000001D3CF2D3128>,\n",
       "        <matplotlib.axes._subplots.AxesSubplot object at 0x000001D3CF2D3160>],\n",
       "       [<matplotlib.axes._subplots.AxesSubplot object at 0x000001D3CF3447B8>,\n",
       "        <matplotlib.axes._subplots.AxesSubplot object at 0x000001D3CF383358>,\n",
       "        <matplotlib.axes._subplots.AxesSubplot object at 0x000001D3CF3AA748>],\n",
       "       [<matplotlib.axes._subplots.AxesSubplot object at 0x000001D3CF3DEE80>,\n",
       "        <matplotlib.axes._subplots.AxesSubplot object at 0x000001D3CF41F3C8>,\n",
       "        <matplotlib.axes._subplots.AxesSubplot object at 0x000001D3CF4579E8>]],\n",
       "      dtype=object)"
      ]
     },
     "execution_count": 42,
     "metadata": {},
     "output_type": "execute_result"
    },
    {
     "data": {
      "image/png": "[encoded data removed]",
      "text/plain": [
       "<matplotlib.figure.Figure at 0x1d3cf4df828>"
      ]
     },
     "metadata": {},
     "output_type": "display_data"
    }
   ],
   "source": [
    "fig, ax = plt.subplots(figsize=(11, 11))\n",
    "\n",
    "wine.hist(bins=50, ax=ax)"
   ]
  },
  {
   "cell_type": "code",
   "execution_count": 46,
   "metadata": {
    "scrolled": false
   },
   "outputs": [
    {
     "data": {
      "text/html": [
       "<div>\n",
       "<style scoped>\n",
       "    .dataframe tbody tr th:only-of-type {\n",
       "        vertical-align: middle;\n",
       "    }\n",
       "\n",
       "    .dataframe tbody tr th {\n",
       "        vertical-align: top;\n",
       "    }\n",
       "\n",
       "    .dataframe thead th {\n",
       "        text-align: right;\n",
       "    }\n",
       "</style>\n",
       "<table border=\"1\" class=\"dataframe\">\n",
       "  <thead>\n",
       "    <tr style=\"text-align: right;\">\n",
       "      <th></th>\n",
       "      <th>Skew</th>\n",
       "    </tr>\n",
       "  </thead>\n",
       "  <tbody>\n",
       "    <tr>\n",
       "      <th>fixed acidity</th>\n",
       "      <td>1.652781</td>\n",
       "    </tr>\n",
       "    <tr>\n",
       "      <th>volatile acidity</th>\n",
       "      <td>1.507233</td>\n",
       "    </tr>\n",
       "    <tr>\n",
       "      <th>citric acid</th>\n",
       "      <td>0.484621</td>\n",
       "    </tr>\n",
       "    <tr>\n",
       "      <th>residual sugar</th>\n",
       "      <td>1.703332</td>\n",
       "    </tr>\n",
       "    <tr>\n",
       "      <th>chlorides</th>\n",
       "      <td>5.342049</td>\n",
       "    </tr>\n",
       "    <tr>\n",
       "      <th>free sulfur dioxide</th>\n",
       "      <td>1.358640</td>\n",
       "    </tr>\n",
       "    <tr>\n",
       "      <th>total sulfur dioxide</th>\n",
       "      <td>0.061697</td>\n",
       "    </tr>\n",
       "    <tr>\n",
       "      <th>density</th>\n",
       "      <td>0.664751</td>\n",
       "    </tr>\n",
       "    <tr>\n",
       "      <th>pH</th>\n",
       "      <td>0.391993</td>\n",
       "    </tr>\n",
       "    <tr>\n",
       "      <th>sulphates</th>\n",
       "      <td>1.810185</td>\n",
       "    </tr>\n",
       "    <tr>\n",
       "      <th>alcohol</th>\n",
       "      <td>0.546145</td>\n",
       "    </tr>\n",
       "    <tr>\n",
       "      <th>quality</th>\n",
       "      <td>0.148992</td>\n",
       "    </tr>\n",
       "  </tbody>\n",
       "</table>\n",
       "</div>"
      ],
      "text/plain": [
       "                          Skew\n",
       "fixed acidity         1.652781\n",
       "volatile acidity      1.507233\n",
       "citric acid           0.484621\n",
       "residual sugar        1.703332\n",
       "chlorides             5.342049\n",
       "free sulfur dioxide   1.358640\n",
       "total sulfur dioxide  0.061697\n",
       "density               0.664751\n",
       "pH                    0.391993\n",
       "sulphates             1.810185\n",
       "alcohol               0.546145\n",
       "quality               0.148992"
      ]
     },
     "execution_count": 46,
     "metadata": {},
     "output_type": "execute_result"
    }
   ],
   "source": [
    "skew = wine.skew()\n",
    "\n",
    "pd.DataFrame(data=skew, columns=[\"Skew\"])"
   ]
  },
  {
   "cell_type": "code",
   "execution_count": 47,
   "metadata": {
    "scrolled": true
   },
   "outputs": [
    {
     "data": {
      "text/html": [
       "<div>\n",
       "<style scoped>\n",
       "    .dataframe tbody tr th:only-of-type {\n",
       "        vertical-align: middle;\n",
       "    }\n",
       "\n",
       "    .dataframe tbody tr th {\n",
       "        vertical-align: top;\n",
       "    }\n",
       "\n",
       "    .dataframe thead th {\n",
       "        text-align: right;\n",
       "    }\n",
       "</style>\n",
       "<table border=\"1\" class=\"dataframe\">\n",
       "  <thead>\n",
       "    <tr style=\"text-align: right;\">\n",
       "      <th></th>\n",
       "      <th>fixed acidity</th>\n",
       "      <th>volatile acidity</th>\n",
       "      <th>citric acid</th>\n",
       "      <th>residual sugar</th>\n",
       "      <th>chlorides</th>\n",
       "      <th>free sulfur dioxide</th>\n",
       "      <th>total sulfur dioxide</th>\n",
       "      <th>density</th>\n",
       "      <th>pH</th>\n",
       "      <th>sulphates</th>\n",
       "      <th>alcohol</th>\n",
       "      <th>quality</th>\n",
       "    </tr>\n",
       "  </thead>\n",
       "  <tbody>\n",
       "    <tr>\n",
       "      <th>count</th>\n",
       "      <td>5329.000000</td>\n",
       "      <td>5329.000000</td>\n",
       "      <td>5329.000000</td>\n",
       "      <td>5329.000000</td>\n",
       "      <td>5329.000000</td>\n",
       "      <td>5329.000000</td>\n",
       "      <td>5329.000000</td>\n",
       "      <td>5329.000000</td>\n",
       "      <td>5329.000000</td>\n",
       "      <td>5329.000000</td>\n",
       "      <td>5329.000000</td>\n",
       "      <td>5329.000000</td>\n",
       "    </tr>\n",
       "    <tr>\n",
       "      <th>mean</th>\n",
       "      <td>7.216166</td>\n",
       "      <td>0.344042</td>\n",
       "      <td>0.318733</td>\n",
       "      <td>5.053068</td>\n",
       "      <td>0.056665</td>\n",
       "      <td>30.060143</td>\n",
       "      <td>114.189341</td>\n",
       "      <td>0.994536</td>\n",
       "      <td>3.224410</td>\n",
       "      <td>0.533250</td>\n",
       "      <td>10.548539</td>\n",
       "      <td>5.796022</td>\n",
       "    </tr>\n",
       "    <tr>\n",
       "      <th>std</th>\n",
       "      <td>1.317988</td>\n",
       "      <td>0.168115</td>\n",
       "      <td>0.147075</td>\n",
       "      <td>4.503336</td>\n",
       "      <td>0.036838</td>\n",
       "      <td>17.815588</td>\n",
       "      <td>56.781422</td>\n",
       "      <td>0.002966</td>\n",
       "      <td>0.160141</td>\n",
       "      <td>0.149669</td>\n",
       "      <td>1.186134</td>\n",
       "      <td>0.879922</td>\n",
       "    </tr>\n",
       "    <tr>\n",
       "      <th>min</th>\n",
       "      <td>3.800000</td>\n",
       "      <td>0.080000</td>\n",
       "      <td>0.000000</td>\n",
       "      <td>0.600000</td>\n",
       "      <td>0.009000</td>\n",
       "      <td>1.000000</td>\n",
       "      <td>6.000000</td>\n",
       "      <td>0.987110</td>\n",
       "      <td>2.720000</td>\n",
       "      <td>0.220000</td>\n",
       "      <td>8.000000</td>\n",
       "      <td>3.000000</td>\n",
       "    </tr>\n",
       "    <tr>\n",
       "      <th>25%</th>\n",
       "      <td>6.400000</td>\n",
       "      <td>0.230000</td>\n",
       "      <td>0.240000</td>\n",
       "      <td>1.800000</td>\n",
       "      <td>0.038000</td>\n",
       "      <td>16.000000</td>\n",
       "      <td>75.000000</td>\n",
       "      <td>0.992200</td>\n",
       "      <td>3.110000</td>\n",
       "      <td>0.430000</td>\n",
       "      <td>9.500000</td>\n",
       "      <td>5.000000</td>\n",
       "    </tr>\n",
       "    <tr>\n",
       "      <th>50%</th>\n",
       "      <td>7.000000</td>\n",
       "      <td>0.300000</td>\n",
       "      <td>0.310000</td>\n",
       "      <td>2.700000</td>\n",
       "      <td>0.047000</td>\n",
       "      <td>28.000000</td>\n",
       "      <td>116.000000</td>\n",
       "      <td>0.994640</td>\n",
       "      <td>3.210000</td>\n",
       "      <td>0.510000</td>\n",
       "      <td>10.400000</td>\n",
       "      <td>6.000000</td>\n",
       "    </tr>\n",
       "    <tr>\n",
       "      <th>75%</th>\n",
       "      <td>7.700000</td>\n",
       "      <td>0.410000</td>\n",
       "      <td>0.400000</td>\n",
       "      <td>7.500000</td>\n",
       "      <td>0.066000</td>\n",
       "      <td>41.000000</td>\n",
       "      <td>154.000000</td>\n",
       "      <td>0.996770</td>\n",
       "      <td>3.330000</td>\n",
       "      <td>0.600000</td>\n",
       "      <td>11.400000</td>\n",
       "      <td>6.000000</td>\n",
       "    </tr>\n",
       "    <tr>\n",
       "      <th>max</th>\n",
       "      <td>15.900000</td>\n",
       "      <td>1.580000</td>\n",
       "      <td>1.660000</td>\n",
       "      <td>65.800000</td>\n",
       "      <td>0.611000</td>\n",
       "      <td>289.000000</td>\n",
       "      <td>440.000000</td>\n",
       "      <td>1.038980</td>\n",
       "      <td>4.010000</td>\n",
       "      <td>2.000000</td>\n",
       "      <td>14.900000</td>\n",
       "      <td>9.000000</td>\n",
       "    </tr>\n",
       "  </tbody>\n",
       "</table>\n",
       "</div>"
      ],
      "text/plain": [
       "       fixed acidity  volatile acidity  citric acid  residual sugar  \\\n",
       "count    5329.000000       5329.000000  5329.000000     5329.000000   \n",
       "mean        7.216166          0.344042     0.318733        5.053068   \n",
       "std         1.317988          0.168115     0.147075        4.503336   \n",
       "min         3.800000          0.080000     0.000000        0.600000   \n",
       "25%         6.400000          0.230000     0.240000        1.800000   \n",
       "50%         7.000000          0.300000     0.310000        2.700000   \n",
       "75%         7.700000          0.410000     0.400000        7.500000   \n",
       "max        15.900000          1.580000     1.660000       65.800000   \n",
       "\n",
       "         chlorides  free sulfur dioxide  total sulfur dioxide      density  \\\n",
       "count  5329.000000          5329.000000           5329.000000  5329.000000   \n",
       "mean      0.056665            30.060143            114.189341     0.994536   \n",
       "std       0.036838            17.815588             56.781422     0.002966   \n",
       "min       0.009000             1.000000              6.000000     0.987110   \n",
       "25%       0.038000            16.000000             75.000000     0.992200   \n",
       "50%       0.047000            28.000000            116.000000     0.994640   \n",
       "75%       0.066000            41.000000            154.000000     0.996770   \n",
       "max       0.611000           289.000000            440.000000     1.038980   \n",
       "\n",
       "                pH    sulphates      alcohol      quality  \n",
       "count  5329.000000  5329.000000  5329.000000  5329.000000  \n",
       "mean      3.224410     0.533250    10.548539     5.796022  \n",
       "std       0.160141     0.149669     1.186134     0.879922  \n",
       "min       2.720000     0.220000     8.000000     3.000000  \n",
       "25%       3.110000     0.430000     9.500000     5.000000  \n",
       "50%       3.210000     0.510000    10.400000     6.000000  \n",
       "75%       3.330000     0.600000    11.400000     6.000000  \n",
       "max       4.010000     2.000000    14.900000     9.000000  "
      ]
     },
     "execution_count": 47,
     "metadata": {},
     "output_type": "execute_result"
    }
   ],
   "source": [
    "# Lets get some summary statistics of the numerical data\n",
    "wine.describe()"
   ]
  },
  {
   "cell_type": "code",
   "execution_count": 48,
   "metadata": {},
   "outputs": [
    {
     "data": {
      "text/html": [
       "<div>\n",
       "<style scoped>\n",
       "    .dataframe tbody tr th:only-of-type {\n",
       "        vertical-align: middle;\n",
       "    }\n",
       "\n",
       "    .dataframe tbody tr th {\n",
       "        vertical-align: top;\n",
       "    }\n",
       "\n",
       "    .dataframe thead th {\n",
       "        text-align: right;\n",
       "    }\n",
       "</style>\n",
       "<table border=\"1\" class=\"dataframe\">\n",
       "  <thead>\n",
       "    <tr style=\"text-align: right;\">\n",
       "      <th></th>\n",
       "      <th>type</th>\n",
       "    </tr>\n",
       "  </thead>\n",
       "  <tbody>\n",
       "    <tr>\n",
       "      <th>count</th>\n",
       "      <td>5329</td>\n",
       "    </tr>\n",
       "    <tr>\n",
       "      <th>unique</th>\n",
       "      <td>2</td>\n",
       "    </tr>\n",
       "    <tr>\n",
       "      <th>top</th>\n",
       "      <td>white</td>\n",
       "    </tr>\n",
       "    <tr>\n",
       "      <th>freq</th>\n",
       "      <td>3970</td>\n",
       "    </tr>\n",
       "  </tbody>\n",
       "</table>\n",
       "</div>"
      ],
      "text/plain": [
       "         type\n",
       "count    5329\n",
       "unique      2\n",
       "top     white\n",
       "freq     3970"
      ]
     },
     "execution_count": 48,
     "metadata": {},
     "output_type": "execute_result"
    }
   ],
   "source": [
    "# Summary statistics on object data\n",
    "wine.describe(exclude = np.number)"
   ]
  },
  {
   "cell_type": "markdown",
   "metadata": {},
   "source": [
    "#### Check for physicochemical properties correlation with each other"
   ]
  },
  {
   "cell_type": "code",
   "execution_count": 49,
   "metadata": {},
   "outputs": [
    {
     "data": {
      "text/html": [
       "<div>\n",
       "<style scoped>\n",
       "    .dataframe tbody tr th:only-of-type {\n",
       "        vertical-align: middle;\n",
       "    }\n",
       "\n",
       "    .dataframe tbody tr th {\n",
       "        vertical-align: top;\n",
       "    }\n",
       "\n",
       "    .dataframe thead th {\n",
       "        text-align: right;\n",
       "    }\n",
       "</style>\n",
       "<table border=\"1\" class=\"dataframe\">\n",
       "  <thead>\n",
       "    <tr style=\"text-align: right;\">\n",
       "      <th></th>\n",
       "      <th>fixed acidity</th>\n",
       "      <th>volatile acidity</th>\n",
       "      <th>citric acid</th>\n",
       "      <th>residual sugar</th>\n",
       "      <th>chlorides</th>\n",
       "      <th>free sulfur dioxide</th>\n",
       "      <th>total sulfur dioxide</th>\n",
       "      <th>density</th>\n",
       "      <th>pH</th>\n",
       "      <th>sulphates</th>\n",
       "      <th>alcohol</th>\n",
       "      <th>quality</th>\n",
       "    </tr>\n",
       "  </thead>\n",
       "  <tbody>\n",
       "    <tr>\n",
       "      <th>fixed acidity</th>\n",
       "      <td>1.000000</td>\n",
       "      <td>0.215179</td>\n",
       "      <td>0.328935</td>\n",
       "      <td>-0.104640</td>\n",
       "      <td>0.288977</td>\n",
       "      <td>-0.281674</td>\n",
       "      <td>-0.327321</td>\n",
       "      <td>0.477843</td>\n",
       "      <td>-0.270243</td>\n",
       "      <td>0.305774</td>\n",
       "      <td>-0.102794</td>\n",
       "      <td>-0.080519</td>\n",
       "    </tr>\n",
       "    <tr>\n",
       "      <th>volatile acidity</th>\n",
       "      <td>0.215179</td>\n",
       "      <td>1.000000</td>\n",
       "      <td>-0.383085</td>\n",
       "      <td>-0.164101</td>\n",
       "      <td>0.367336</td>\n",
       "      <td>-0.349350</td>\n",
       "      <td>-0.401468</td>\n",
       "      <td>0.307123</td>\n",
       "      <td>0.245786</td>\n",
       "      <td>0.225936</td>\n",
       "      <td>-0.064878</td>\n",
       "      <td>-0.264294</td>\n",
       "    </tr>\n",
       "    <tr>\n",
       "      <th>citric acid</th>\n",
       "      <td>0.328935</td>\n",
       "      <td>-0.383085</td>\n",
       "      <td>1.000000</td>\n",
       "      <td>0.146574</td>\n",
       "      <td>0.055010</td>\n",
       "      <td>0.132168</td>\n",
       "      <td>0.195102</td>\n",
       "      <td>0.094874</td>\n",
       "      <td>-0.343166</td>\n",
       "      <td>0.060413</td>\n",
       "      <td>-0.005575</td>\n",
       "      <td>0.098769</td>\n",
       "    </tr>\n",
       "    <tr>\n",
       "      <th>residual sugar</th>\n",
       "      <td>-0.104640</td>\n",
       "      <td>-0.164101</td>\n",
       "      <td>0.146574</td>\n",
       "      <td>1.000000</td>\n",
       "      <td>-0.123265</td>\n",
       "      <td>0.399024</td>\n",
       "      <td>0.487479</td>\n",
       "      <td>0.521663</td>\n",
       "      <td>-0.233907</td>\n",
       "      <td>-0.174803</td>\n",
       "      <td>-0.306222</td>\n",
       "      <td>-0.057414</td>\n",
       "    </tr>\n",
       "    <tr>\n",
       "      <th>chlorides</th>\n",
       "      <td>0.288977</td>\n",
       "      <td>0.367336</td>\n",
       "      <td>0.055010</td>\n",
       "      <td>-0.123265</td>\n",
       "      <td>1.000000</td>\n",
       "      <td>-0.186833</td>\n",
       "      <td>-0.270016</td>\n",
       "      <td>0.371447</td>\n",
       "      <td>0.026329</td>\n",
       "      <td>0.404483</td>\n",
       "      <td>-0.269121</td>\n",
       "      <td>-0.202226</td>\n",
       "    </tr>\n",
       "    <tr>\n",
       "      <th>free sulfur dioxide</th>\n",
       "      <td>-0.281674</td>\n",
       "      <td>-0.349350</td>\n",
       "      <td>0.132168</td>\n",
       "      <td>0.399024</td>\n",
       "      <td>-0.186833</td>\n",
       "      <td>1.000000</td>\n",
       "      <td>0.720666</td>\n",
       "      <td>0.006687</td>\n",
       "      <td>-0.141342</td>\n",
       "      <td>-0.198379</td>\n",
       "      <td>-0.170396</td>\n",
       "      <td>0.054456</td>\n",
       "    </tr>\n",
       "    <tr>\n",
       "      <th>total sulfur dioxide</th>\n",
       "      <td>-0.327321</td>\n",
       "      <td>-0.401468</td>\n",
       "      <td>0.195102</td>\n",
       "      <td>0.487479</td>\n",
       "      <td>-0.270016</td>\n",
       "      <td>0.720666</td>\n",
       "      <td>1.000000</td>\n",
       "      <td>0.007359</td>\n",
       "      <td>-0.222502</td>\n",
       "      <td>-0.274639</td>\n",
       "      <td>-0.249597</td>\n",
       "      <td>-0.050387</td>\n",
       "    </tr>\n",
       "    <tr>\n",
       "      <th>density</th>\n",
       "      <td>0.477843</td>\n",
       "      <td>0.307123</td>\n",
       "      <td>0.094874</td>\n",
       "      <td>0.521663</td>\n",
       "      <td>0.371447</td>\n",
       "      <td>0.006687</td>\n",
       "      <td>0.007359</td>\n",
       "      <td>1.000000</td>\n",
       "      <td>0.034138</td>\n",
       "      <td>0.282236</td>\n",
       "      <td>-0.668216</td>\n",
       "      <td>-0.326978</td>\n",
       "    </tr>\n",
       "    <tr>\n",
       "      <th>pH</th>\n",
       "      <td>-0.270243</td>\n",
       "      <td>0.245786</td>\n",
       "      <td>-0.343166</td>\n",
       "      <td>-0.233907</td>\n",
       "      <td>0.026329</td>\n",
       "      <td>-0.141342</td>\n",
       "      <td>-0.222502</td>\n",
       "      <td>0.034138</td>\n",
       "      <td>1.000000</td>\n",
       "      <td>0.166361</td>\n",
       "      <td>0.097370</td>\n",
       "      <td>0.039937</td>\n",
       "    </tr>\n",
       "    <tr>\n",
       "      <th>sulphates</th>\n",
       "      <td>0.305774</td>\n",
       "      <td>0.225936</td>\n",
       "      <td>0.060413</td>\n",
       "      <td>-0.174803</td>\n",
       "      <td>0.404483</td>\n",
       "      <td>-0.198379</td>\n",
       "      <td>-0.274639</td>\n",
       "      <td>0.282236</td>\n",
       "      <td>0.166361</td>\n",
       "      <td>1.000000</td>\n",
       "      <td>-0.017896</td>\n",
       "      <td>0.041462</td>\n",
       "    </tr>\n",
       "    <tr>\n",
       "      <th>alcohol</th>\n",
       "      <td>-0.102794</td>\n",
       "      <td>-0.064878</td>\n",
       "      <td>-0.005575</td>\n",
       "      <td>-0.306222</td>\n",
       "      <td>-0.269121</td>\n",
       "      <td>-0.170396</td>\n",
       "      <td>-0.249597</td>\n",
       "      <td>-0.668216</td>\n",
       "      <td>0.097370</td>\n",
       "      <td>-0.017896</td>\n",
       "      <td>1.000000</td>\n",
       "      <td>0.469555</td>\n",
       "    </tr>\n",
       "    <tr>\n",
       "      <th>quality</th>\n",
       "      <td>-0.080519</td>\n",
       "      <td>-0.264294</td>\n",
       "      <td>0.098769</td>\n",
       "      <td>-0.057414</td>\n",
       "      <td>-0.202226</td>\n",
       "      <td>0.054456</td>\n",
       "      <td>-0.050387</td>\n",
       "      <td>-0.326978</td>\n",
       "      <td>0.039937</td>\n",
       "      <td>0.041462</td>\n",
       "      <td>0.469555</td>\n",
       "      <td>1.000000</td>\n",
       "    </tr>\n",
       "  </tbody>\n",
       "</table>\n",
       "</div>"
      ],
      "text/plain": [
       "                      fixed acidity  volatile acidity  citric acid  \\\n",
       "fixed acidity              1.000000          0.215179     0.328935   \n",
       "volatile acidity           0.215179          1.000000    -0.383085   \n",
       "citric acid                0.328935         -0.383085     1.000000   \n",
       "residual sugar            -0.104640         -0.164101     0.146574   \n",
       "chlorides                  0.288977          0.367336     0.055010   \n",
       "free sulfur dioxide       -0.281674         -0.349350     0.132168   \n",
       "total sulfur dioxide      -0.327321         -0.401468     0.195102   \n",
       "density                    0.477843          0.307123     0.094874   \n",
       "pH                        -0.270243          0.245786    -0.343166   \n",
       "sulphates                  0.305774          0.225936     0.060413   \n",
       "alcohol                   -0.102794         -0.064878    -0.005575   \n",
       "quality                   -0.080519         -0.264294     0.098769   \n",
       "\n",
       "                      residual sugar  chlorides  free sulfur dioxide  \\\n",
       "fixed acidity              -0.104640   0.288977            -0.281674   \n",
       "volatile acidity           -0.164101   0.367336            -0.349350   \n",
       "citric acid                 0.146574   0.055010             0.132168   \n",
       "residual sugar              1.000000  -0.123265             0.399024   \n",
       "chlorides                  -0.123265   1.000000            -0.186833   \n",
       "free sulfur dioxide         0.399024  -0.186833             1.000000   \n",
       "total sulfur dioxide        0.487479  -0.270016             0.720666   \n",
       "density                     0.521663   0.371447             0.006687   \n",
       "pH                         -0.233907   0.026329            -0.141342   \n",
       "sulphates                  -0.174803   0.404483            -0.198379   \n",
       "alcohol                    -0.306222  -0.269121            -0.170396   \n",
       "quality                    -0.057414  -0.202226             0.054456   \n",
       "\n",
       "                      total sulfur dioxide   density        pH  sulphates  \\\n",
       "fixed acidity                    -0.327321  0.477843 -0.270243   0.305774   \n",
       "volatile acidity                 -0.401468  0.307123  0.245786   0.225936   \n",
       "citric acid                       0.195102  0.094874 -0.343166   0.060413   \n",
       "residual sugar                    0.487479  0.521663 -0.233907  -0.174803   \n",
       "chlorides                        -0.270016  0.371447  0.026329   0.404483   \n",
       "free sulfur dioxide               0.720666  0.006687 -0.141342  -0.198379   \n",
       "total sulfur dioxide              1.000000  0.007359 -0.222502  -0.274639   \n",
       "density                           0.007359  1.000000  0.034138   0.282236   \n",
       "pH                               -0.222502  0.034138  1.000000   0.166361   \n",
       "sulphates                        -0.274639  0.282236  0.166361   1.000000   \n",
       "alcohol                          -0.249597 -0.668216  0.097370  -0.017896   \n",
       "quality                          -0.050387 -0.326978  0.039937   0.041462   \n",
       "\n",
       "                       alcohol   quality  \n",
       "fixed acidity        -0.102794 -0.080519  \n",
       "volatile acidity     -0.064878 -0.264294  \n",
       "citric acid          -0.005575  0.098769  \n",
       "residual sugar       -0.306222 -0.057414  \n",
       "chlorides            -0.269121 -0.202226  \n",
       "free sulfur dioxide  -0.170396  0.054456  \n",
       "total sulfur dioxide -0.249597 -0.050387  \n",
       "density              -0.668216 -0.326978  \n",
       "pH                    0.097370  0.039937  \n",
       "sulphates            -0.017896  0.041462  \n",
       "alcohol               1.000000  0.469555  \n",
       "quality               0.469555  1.000000  "
      ]
     },
     "execution_count": 49,
     "metadata": {},
     "output_type": "execute_result"
    }
   ],
   "source": [
    "# Look at correlation matrix\n",
    "wine.corr()"
   ]
  },
  {
   "cell_type": "code",
   "execution_count": 50,
   "metadata": {},
   "outputs": [
    {
     "data": {
      "text/plain": [
       "<matplotlib.axes._subplots.AxesSubplot at 0x1d3d0f54cf8>"
      ]
     },
     "execution_count": 50,
     "metadata": {},
     "output_type": "execute_result"
    },
    {
     "data": {
      "image/png": "[encoded data removed]",
      "text/plain": [
       "<matplotlib.figure.Figure at 0x1d3d0fda860>"
      ]
     },
     "metadata": {},
     "output_type": "display_data"
    }
   ],
   "source": [
    "# Visualize the matrix on a heatmap\n",
    "mask = np.triu(wine.corr())\n",
    "fig, ax = plt.subplots(figsize=(7,7))\n",
    "sns.heatmap(data=wine.corr(), annot=True, fmt=\".2f\", ax=ax, mask=mask)"
   ]
  },
  {
   "cell_type": "code",
   "execution_count": null,
   "metadata": {},
   "outputs": [],
   "source": []
  },
  {
   "cell_type": "markdown",
   "metadata": {},
   "source": [
    "#### Observations\n",
    "* An increase in the amount of citric acid results to a drop in volatile acidity\n",
    "* An increase in the amount of chloride results to an increase in the volatile and fixed acidity\n",
    "* An increase in the amount of FSO2 an TSO2 results to a decrease in volatile and fixed acidity\n",
    "* An increase in the amount of FSO2 and TSO2 result to an increase in the amount of residual sugars\n",
    "* FSO2 and TSO2 have a high correlation and potray similar information. An increase in one results to an increase in the other\n",
    "* The higher the amount of fixed and volatile acidity the higher the wine density\n",
    "* High amounts of residual sugars result to an increase in the wine density\n",
    "* Higher chloride amounts result to an increase in the wine density\n",
    "* Drill deeper into the impact of acidity and the pH. An increase in fixed acidity and citric acid result to a decrease in pH while an increase in volatile acidity results to a higher pH\n",
    "* An increase in sulphates results to an increase in fixed and volatile acidity\n",
    "* An increase in sulphates results to an increase in chlorides\n",
    "* Sulphates seem to help raise the density of the wine\n",
    "* An increase in alcohol results to a decrease in residual sugars\n",
    "* An increase in alcohol results to a decrease in chlorides\n",
    "* Higher amounts of alcohol results to a decrease in wine density"
   ]
  },
  {
   "cell_type": "markdown",
   "metadata": {},
   "source": [
    "#### Observations Research:\n",
    "\n",
    "* **An increase in the amount of citric acid results to a drop in volatile acidity**\n",
    "    - Citric acid is added to wine after primary alcohol fermentation is complete. This is mainly due to the tendency of yeast to convert citric sugars into acetic acid (a volatile acid)\n",
    "    \n",
    "    \n",
    "* **An increase in the amount of FSO2 an TSO2 results to a decrease in both volatile and fixed acidity**\n",
    "    - With low acidity, wines become less stable. Sulfites are added to lower acidity wines to help stabilize them from bacterial growth and increase shelf life. Wines with no added sulfites have a shorter shelf life and therefore need to have a higher acidity (lower pH) which acts as a natural preservative.\n",
    "    \n",
    "    \n",
    "* **An increase in the amount of FSO2 and TSO2 result to an increase in the amount of residual sugars**\n",
    "    - Residual sugars are what remains after fermentation has occured. To prevent future fermentation of this sugars after bottling of the wine, sulfites are added to stabilize the wine and prevent secondary fermentation which may result to bottle explosion\n",
    "    \n",
    "    \n",
    "* **The higher the amount of fixed and volatile acidity the higher the wine density**\n",
    "    - The most prevalent fixed acids in wine are tartaric acid, malic acid and citric acid. Acetic acid is the most prevalent volatile acid Looking at their individual densities, they are all denser than water with tartaric acid having a density of 1.79 g/cm^3, citric acid of 1.67g/cm^3, malic acid at 1.61g/cm^3 and acetic acid at 1.05g/cm^3. Its this property of the acids that has a positive influence on the density of the wine\n",
    "    \n",
    "    \n",
    "* **High amounts of residual sugars and chlorides result to an increase in the wine density**\n",
    "    - Residual sugars increase the density of wine since more soluble solids i.e. sugars and salts are filling up the space between the water molecules.\n",
    " \n",
    " \n",
    "* **An increase in fixed acidity and citric acid result to a decrease in pH while an increase in volatile acidity results to a higher pH**\n",
    "    - Fixed acids (tartaric, malic and citric) are added to wine to increase its acidity i.e. lower the wine's pH level which help to not only add flavor to the wine but help in preserving it since most bacteria dont survive in high acidic environments. Volatile acidity is an indicator of wine spoilage which means there are bacteria in the wine converting some of the fixed acids (tartaric and citric acid) and residual sugars to acetic acid. These bacteria survive in a less acidic (high pH levels above 3.6) environment hence the increase in the wine's pH levels\n",
    "    \n",
    "    \n",
    "* **An increase in sulphates results to an increase in fixed and volatile acidity**\n",
    "\n",
    "\n",
    "* **An increase in alcohol results to a decrease in residual sugars**\n",
    "    - Residual sugars are a by product of the fermentation process. These are the remains after most of the sugars have been converted into alcohol (ethanol) by the yeast. The more sugars converted in the process the higher the alcohol content of the wine hence few sugars remain unconverted.\n",
    "    \n",
    "    \n",
    "* **An increase in alcohol results to a decrease in chlorides**\n",
    "\n",
    "\n",
    "* **Higher amounts of alcohol results to a decrease in wine density**\n",
    "    - The density of alcohol (ethanol) is 0.789g/cm^3. This makes alcohol less denser than water with a density of 1g/cm^3. The higher the alcohol content in wine, then the lighter (less dense) the wine will be."
   ]
  },
  {
   "cell_type": "markdown",
   "metadata": {},
   "source": [
    "#### Look at how the physicochemical properties correlate with the quality of the wine"
   ]
  },
  {
   "cell_type": "code",
   "execution_count": 51,
   "metadata": {},
   "outputs": [],
   "source": [
    "from ipywidgets import widgets"
   ]
  },
  {
   "cell_type": "code",
   "execution_count": 52,
   "metadata": {
    "scrolled": true
   },
   "outputs": [
    {
     "data": {
      "application/vnd.jupyter.widget-view+json": {
       "model_id": "d996d89f68f3468f802ee5c255292617",
       "version_major": 2,
       "version_minor": 0
      },
      "text/html": [
       "<p>Failed to display Jupyter Widget of type <code>interactive</code>.</p>\n",
       "<p>\n",
       "  If you're reading this message in the Jupyter Notebook or JupyterLab Notebook, it may mean\n",
       "  that the widgets JavaScript is still loading. If this message persists, it\n",
       "  likely means that the widgets JavaScript library is either not installed or\n",
       "  not enabled. See the <a href=\"https://ipywidgets.readthedocs.io/en/stable/user_install.html\">Jupyter\n",
       "  Widgets Documentation</a> for setup instructions.\n",
       "</p>\n",
       "<p>\n",
       "  If you're reading this message in another frontend (for example, a static\n",
       "  rendering on GitHub or <a href=\"https://nbviewer.jupyter.org/\">NBViewer</a>),\n",
       "  it may mean that your frontend doesn't currently support widgets.\n",
       "</p>\n"
      ],
      "text/plain": [
       "interactive(children=(Dropdown(description='feature', options={'type': 'type', 'fixed acidity': 'fixed acidity', 'volatile acidity': 'volatile acidity', 'citric acid': 'citric acid', 'residual sugar': 'residual sugar', 'chlorides': 'chlorides', 'free sulfur dioxide': 'free sulfur dioxide', 'total sulfur dioxide': 'total sulfur dioxide', 'density': 'density', 'pH': 'pH', 'sulphates': 'sulphates', 'alcohol': 'alcohol', 'quality': 'quality'}, value='type'), Output()), _dom_classes=('widget-interact',))"
      ]
     },
     "metadata": {},
     "output_type": "display_data"
    },
    {
     "data": {
      "text/plain": [
       "<function __main__.plot_boxplot>"
      ]
     },
     "execution_count": 52,
     "metadata": {},
     "output_type": "execute_result"
    }
   ],
   "source": [
    "# Check how each feature relate to the quality\n",
    "def plot_boxplot(feature):\n",
    "    sns.boxplot(data=wine, x=\"quality\", y=feature)\n",
    "\n",
    "cols_dict = {col: col for col in wine.columns}\n",
    "\n",
    "widgets.interact(plot_boxplot, feature=cols_dict)"
   ]
  },
  {
   "cell_type": "markdown",
   "metadata": {},
   "source": [
    "#### Observations\n",
    "* Slight decrease in fixed acidity as wine quality increases with exception of highest quality wine\n",
    "* wine quality increases as volatile acidity decreases\n",
    "* wine quality increases as chlorides amount decreases \n",
    "* Quality increases with an increase in FSO2\n",
    "* Quality increases with an decrease in TSO2\n",
    "* Quality increases with a decrease in density\n",
    "* Quality increases with a increase in alcohol content"
   ]
  },
  {
   "cell_type": "code",
   "execution_count": 119,
   "metadata": {},
   "outputs": [
    {
     "data": {
      "text/plain": [
       "<matplotlib.axes._subplots.AxesSubplot at 0x294189ee828>"
      ]
     },
     "execution_count": 119,
     "metadata": {},
     "output_type": "execute_result"
    },
    {
     "data": {
      "image/png": "[encoded data removed]",
      "text/plain": [
       "<matplotlib.figure.Figure at 0x29418940ac8>"
      ]
     },
     "metadata": {},
     "output_type": "display_data"
    }
   ],
   "source": [
    "# Bar plot to visualize what physicochemical properties correlate more with the quality\n",
    "fig, ax = plt.subplots(figsize=(9,5))\n",
    "wine.corr()[\"quality\"].sort_values(ascending=False).plot(kind=\"bar\", ax=ax)"
   ]
  },
  {
   "cell_type": "markdown",
   "metadata": {},
   "source": [
    "#### Since FSO2 and TSO2 represent almost similar thing, we'll do some little feature engineering and create a new feature FSO2_percentage in TSO2"
   ]
  },
  {
   "cell_type": "code",
   "execution_count": 120,
   "metadata": {},
   "outputs": [],
   "source": [
    "# FSO2 and TSO2 have a high correlation and potray similar information. An increase in one results to an increase in the other\n",
    "wine[\"FSO2_percentage\"] = wine[\"free sulfur dioxide\"] / wine[\"total sulfur dioxide\"]"
   ]
  },
  {
   "cell_type": "code",
   "execution_count": 121,
   "metadata": {},
   "outputs": [],
   "source": [
    "# Add a new column to the copy\n",
    "# wine_copy[\"FSO2_percentage\"] = wine_copy[\"free sulfur dioxide\"] / wine_copy[\"total sulfur dioxide\"]"
   ]
  },
  {
   "cell_type": "code",
   "execution_count": 122,
   "metadata": {},
   "outputs": [
    {
     "data": {
      "text/html": [
       "<div>\n",
       "<style scoped>\n",
       "    .dataframe tbody tr th:only-of-type {\n",
       "        vertical-align: middle;\n",
       "    }\n",
       "\n",
       "    .dataframe tbody tr th {\n",
       "        vertical-align: top;\n",
       "    }\n",
       "\n",
       "    .dataframe thead th {\n",
       "        text-align: right;\n",
       "    }\n",
       "</style>\n",
       "<table border=\"1\" class=\"dataframe\">\n",
       "  <thead>\n",
       "    <tr style=\"text-align: right;\">\n",
       "      <th></th>\n",
       "      <th>type</th>\n",
       "      <th>fixed acidity</th>\n",
       "      <th>volatile acidity</th>\n",
       "      <th>citric acid</th>\n",
       "      <th>residual sugar</th>\n",
       "      <th>chlorides</th>\n",
       "      <th>free sulfur dioxide</th>\n",
       "      <th>total sulfur dioxide</th>\n",
       "      <th>density</th>\n",
       "      <th>pH</th>\n",
       "      <th>sulphates</th>\n",
       "      <th>alcohol</th>\n",
       "      <th>quality</th>\n",
       "      <th>FSO2_percentage</th>\n",
       "    </tr>\n",
       "  </thead>\n",
       "  <tbody>\n",
       "    <tr>\n",
       "      <th>0</th>\n",
       "      <td>white</td>\n",
       "      <td>7.0</td>\n",
       "      <td>0.27</td>\n",
       "      <td>0.36</td>\n",
       "      <td>20.7</td>\n",
       "      <td>0.045</td>\n",
       "      <td>45.0</td>\n",
       "      <td>170.0</td>\n",
       "      <td>1.0010</td>\n",
       "      <td>3.00</td>\n",
       "      <td>0.45</td>\n",
       "      <td>8.8</td>\n",
       "      <td>6</td>\n",
       "      <td>0.264706</td>\n",
       "    </tr>\n",
       "    <tr>\n",
       "      <th>1</th>\n",
       "      <td>white</td>\n",
       "      <td>6.3</td>\n",
       "      <td>0.30</td>\n",
       "      <td>0.34</td>\n",
       "      <td>1.6</td>\n",
       "      <td>0.049</td>\n",
       "      <td>14.0</td>\n",
       "      <td>132.0</td>\n",
       "      <td>0.9940</td>\n",
       "      <td>3.30</td>\n",
       "      <td>0.49</td>\n",
       "      <td>9.5</td>\n",
       "      <td>6</td>\n",
       "      <td>0.106061</td>\n",
       "    </tr>\n",
       "    <tr>\n",
       "      <th>2</th>\n",
       "      <td>white</td>\n",
       "      <td>8.1</td>\n",
       "      <td>0.28</td>\n",
       "      <td>0.40</td>\n",
       "      <td>6.9</td>\n",
       "      <td>0.050</td>\n",
       "      <td>30.0</td>\n",
       "      <td>97.0</td>\n",
       "      <td>0.9951</td>\n",
       "      <td>3.26</td>\n",
       "      <td>0.44</td>\n",
       "      <td>10.1</td>\n",
       "      <td>6</td>\n",
       "      <td>0.309278</td>\n",
       "    </tr>\n",
       "    <tr>\n",
       "      <th>3</th>\n",
       "      <td>white</td>\n",
       "      <td>7.2</td>\n",
       "      <td>0.23</td>\n",
       "      <td>0.32</td>\n",
       "      <td>8.5</td>\n",
       "      <td>0.058</td>\n",
       "      <td>47.0</td>\n",
       "      <td>186.0</td>\n",
       "      <td>0.9956</td>\n",
       "      <td>3.19</td>\n",
       "      <td>0.40</td>\n",
       "      <td>9.9</td>\n",
       "      <td>6</td>\n",
       "      <td>0.252688</td>\n",
       "    </tr>\n",
       "    <tr>\n",
       "      <th>6</th>\n",
       "      <td>white</td>\n",
       "      <td>6.2</td>\n",
       "      <td>0.32</td>\n",
       "      <td>0.16</td>\n",
       "      <td>7.0</td>\n",
       "      <td>0.045</td>\n",
       "      <td>30.0</td>\n",
       "      <td>136.0</td>\n",
       "      <td>0.9949</td>\n",
       "      <td>3.18</td>\n",
       "      <td>0.47</td>\n",
       "      <td>9.6</td>\n",
       "      <td>6</td>\n",
       "      <td>0.220588</td>\n",
       "    </tr>\n",
       "  </tbody>\n",
       "</table>\n",
       "</div>"
      ],
      "text/plain": [
       "    type  fixed acidity  volatile acidity  citric acid  residual sugar  \\\n",
       "0  white            7.0              0.27         0.36            20.7   \n",
       "1  white            6.3              0.30         0.34             1.6   \n",
       "2  white            8.1              0.28         0.40             6.9   \n",
       "3  white            7.2              0.23         0.32             8.5   \n",
       "6  white            6.2              0.32         0.16             7.0   \n",
       "\n",
       "   chlorides  free sulfur dioxide  total sulfur dioxide  density    pH  \\\n",
       "0      0.045                 45.0                 170.0   1.0010  3.00   \n",
       "1      0.049                 14.0                 132.0   0.9940  3.30   \n",
       "2      0.050                 30.0                  97.0   0.9951  3.26   \n",
       "3      0.058                 47.0                 186.0   0.9956  3.19   \n",
       "6      0.045                 30.0                 136.0   0.9949  3.18   \n",
       "\n",
       "   sulphates  alcohol  quality  FSO2_percentage  \n",
       "0       0.45      8.8        6         0.264706  \n",
       "1       0.49      9.5        6         0.106061  \n",
       "2       0.44     10.1        6         0.309278  \n",
       "3       0.40      9.9        6         0.252688  \n",
       "6       0.47      9.6        6         0.220588  "
      ]
     },
     "execution_count": 122,
     "metadata": {},
     "output_type": "execute_result"
    }
   ],
   "source": [
    "wine.head()"
   ]
  },
  {
   "cell_type": "code",
   "execution_count": 123,
   "metadata": {},
   "outputs": [
    {
     "data": {
      "application/vnd.jupyter.widget-view+json": {
       "model_id": "ad9608797c824ff9bca5d578e0d133ce",
       "version_major": 2,
       "version_minor": 0
      },
      "text/html": [
       "<p>Failed to display Jupyter Widget of type <code>interactive</code>.</p>\n",
       "<p>\n",
       "  If you're reading this message in the Jupyter Notebook or JupyterLab Notebook, it may mean\n",
       "  that the widgets JavaScript is still loading. If this message persists, it\n",
       "  likely means that the widgets JavaScript library is either not installed or\n",
       "  not enabled. See the <a href=\"https://ipywidgets.readthedocs.io/en/stable/user_install.html\">Jupyter\n",
       "  Widgets Documentation</a> for setup instructions.\n",
       "</p>\n",
       "<p>\n",
       "  If you're reading this message in another frontend (for example, a static\n",
       "  rendering on GitHub or <a href=\"https://nbviewer.jupyter.org/\">NBViewer</a>),\n",
       "  it may mean that your frontend doesn't currently support widgets.\n",
       "</p>\n"
      ],
      "text/plain": [
       "interactive(children=(Dropdown(description='feature', options={'fixed acidity': 'fixed acidity', 'volatile acidity': 'volatile acidity', 'citric acid': 'citric acid', 'residual sugar': 'residual sugar', 'chlorides': 'chlorides', 'free sulfur dioxide': 'free sulfur dioxide', 'total sulfur dioxide': 'total sulfur dioxide', 'density': 'density', 'pH': 'pH', 'sulphates': 'sulphates', 'alcohol': 'alcohol', 'quality': 'quality', 'FSO2_percentage': 'FSO2_percentage'}, value='fixed acidity'), Output()), _dom_classes=('widget-interact',))"
      ]
     },
     "metadata": {},
     "output_type": "display_data"
    },
    {
     "data": {
      "text/plain": [
       "<function __main__.plot_typeDistribution>"
      ]
     },
     "execution_count": 123,
     "metadata": {},
     "output_type": "execute_result"
    }
   ],
   "source": [
    "# distribution of physicochemical properties in red and white wine\n",
    "def plot_typeDistribution(feature):\n",
    "    sns.boxplot(data=wine, x=\"type\", y=feature)\n",
    "    \n",
    "cols_dict = {col: col for col in wine.drop(\"type\", axis=1).columns}\n",
    "    \n",
    "widgets.interact(plot_typeDistribution, feature=cols_dict)"
   ]
  },
  {
   "cell_type": "markdown",
   "metadata": {},
   "source": [
    "#### Observations:\n",
    "* Red wine has a higher fixed acidity and volatile acidity than white wine\n",
    "* White wine has more citric acid than red wine\n",
    "* White wine is more sweeter than red wine\n",
    "* Red wine has more chlorides (results to a salty taste) than white wine.\n",
    "* White wine has more FSO2 and TSO2 than red wine\n",
    "* Red wine is more denser than white wine\n",
    "* Red wine is less acidic i.e. has a higher pH than white wine\n",
    "* Red wine has more sulphates than white wine\n",
    "* White wine has a slightly higher alcohol content than red wine\n",
    "* Red wine has a higher FSO2 proportion than white wine"
   ]
  },
  {
   "cell_type": "code",
   "execution_count": 124,
   "metadata": {},
   "outputs": [
    {
     "data": {
      "text/plain": [
       "<matplotlib.axes._subplots.AxesSubplot at 0x29418a259e8>"
      ]
     },
     "execution_count": 124,
     "metadata": {},
     "output_type": "execute_result"
    },
    {
     "data": {
      "image/png": "[encoded data removed]",
      "text/plain": [
       "<matplotlib.figure.Figure at 0x2941840b7f0>"
      ]
     },
     "metadata": {},
     "output_type": "display_data"
    }
   ],
   "source": [
    "# Check the distribution of wine type\n",
    "wine_type_group = wine.groupby(\"type\")[\"type\"].count()\n",
    "wine_type_group.plot(kind=\"bar\")"
   ]
  },
  {
   "cell_type": "code",
   "execution_count": 125,
   "metadata": {},
   "outputs": [
    {
     "data": {
      "text/html": [
       "<div>\n",
       "<style scoped>\n",
       "    .dataframe tbody tr th:only-of-type {\n",
       "        vertical-align: middle;\n",
       "    }\n",
       "\n",
       "    .dataframe tbody tr th {\n",
       "        vertical-align: top;\n",
       "    }\n",
       "\n",
       "    .dataframe thead th {\n",
       "        text-align: right;\n",
       "    }\n",
       "</style>\n",
       "<table border=\"1\" class=\"dataframe\">\n",
       "  <thead>\n",
       "    <tr style=\"text-align: right;\">\n",
       "      <th></th>\n",
       "      <th>fixed acidity</th>\n",
       "      <th>volatile acidity</th>\n",
       "      <th>citric acid</th>\n",
       "      <th>residual sugar</th>\n",
       "      <th>chlorides</th>\n",
       "      <th>free sulfur dioxide</th>\n",
       "      <th>total sulfur dioxide</th>\n",
       "      <th>density</th>\n",
       "      <th>pH</th>\n",
       "      <th>sulphates</th>\n",
       "      <th>alcohol</th>\n",
       "      <th>quality</th>\n",
       "      <th>FSO2_percentage</th>\n",
       "    </tr>\n",
       "    <tr>\n",
       "      <th>type</th>\n",
       "      <th></th>\n",
       "      <th></th>\n",
       "      <th></th>\n",
       "      <th></th>\n",
       "      <th></th>\n",
       "      <th></th>\n",
       "      <th></th>\n",
       "      <th></th>\n",
       "      <th></th>\n",
       "      <th></th>\n",
       "      <th></th>\n",
       "      <th></th>\n",
       "      <th></th>\n",
       "    </tr>\n",
       "  </thead>\n",
       "  <tbody>\n",
       "    <tr>\n",
       "      <th>red</th>\n",
       "      <td>7.9</td>\n",
       "      <td>0.52</td>\n",
       "      <td>0.26</td>\n",
       "      <td>2.2</td>\n",
       "      <td>0.079</td>\n",
       "      <td>14.0</td>\n",
       "      <td>38.0</td>\n",
       "      <td>0.9967</td>\n",
       "      <td>3.31</td>\n",
       "      <td>0.62</td>\n",
       "      <td>10.2</td>\n",
       "      <td>6</td>\n",
       "      <td>0.375000</td>\n",
       "    </tr>\n",
       "    <tr>\n",
       "      <th>white</th>\n",
       "      <td>6.8</td>\n",
       "      <td>0.26</td>\n",
       "      <td>0.32</td>\n",
       "      <td>4.7</td>\n",
       "      <td>0.042</td>\n",
       "      <td>33.0</td>\n",
       "      <td>133.0</td>\n",
       "      <td>0.9935</td>\n",
       "      <td>3.18</td>\n",
       "      <td>0.48</td>\n",
       "      <td>10.4</td>\n",
       "      <td>6</td>\n",
       "      <td>0.252213</td>\n",
       "    </tr>\n",
       "  </tbody>\n",
       "</table>\n",
       "</div>"
      ],
      "text/plain": [
       "       fixed acidity  volatile acidity  citric acid  residual sugar  \\\n",
       "type                                                                  \n",
       "red              7.9              0.52         0.26             2.2   \n",
       "white            6.8              0.26         0.32             4.7   \n",
       "\n",
       "       chlorides  free sulfur dioxide  total sulfur dioxide  density    pH  \\\n",
       "type                                                                         \n",
       "red        0.079                 14.0                  38.0   0.9967  3.31   \n",
       "white      0.042                 33.0                 133.0   0.9935  3.18   \n",
       "\n",
       "       sulphates  alcohol  quality  FSO2_percentage  \n",
       "type                                                 \n",
       "red         0.62     10.2        6         0.375000  \n",
       "white       0.48     10.4        6         0.252213  "
      ]
     },
     "execution_count": 125,
     "metadata": {},
     "output_type": "execute_result"
    }
   ],
   "source": [
    "# What's the average composition (median) of the physicochemical properties in red and white wines?\n",
    "wine.groupby(\"type\").median()"
   ]
  },
  {
   "cell_type": "code",
   "execution_count": 126,
   "metadata": {},
   "outputs": [
    {
     "data": {
      "text/html": [
       "<div>\n",
       "<style scoped>\n",
       "    .dataframe tbody tr th:only-of-type {\n",
       "        vertical-align: middle;\n",
       "    }\n",
       "\n",
       "    .dataframe tbody tr th {\n",
       "        vertical-align: top;\n",
       "    }\n",
       "\n",
       "    .dataframe thead th {\n",
       "        text-align: right;\n",
       "    }\n",
       "</style>\n",
       "<table border=\"1\" class=\"dataframe\">\n",
       "  <thead>\n",
       "    <tr style=\"text-align: right;\">\n",
       "      <th></th>\n",
       "      <th>fixed acidity</th>\n",
       "      <th>volatile acidity</th>\n",
       "      <th>citric acid</th>\n",
       "      <th>residual sugar</th>\n",
       "      <th>chlorides</th>\n",
       "      <th>free sulfur dioxide</th>\n",
       "      <th>total sulfur dioxide</th>\n",
       "      <th>density</th>\n",
       "      <th>pH</th>\n",
       "      <th>sulphates</th>\n",
       "      <th>alcohol</th>\n",
       "      <th>FSO2_percentage</th>\n",
       "    </tr>\n",
       "    <tr>\n",
       "      <th>quality</th>\n",
       "      <th></th>\n",
       "      <th></th>\n",
       "      <th></th>\n",
       "      <th></th>\n",
       "      <th></th>\n",
       "      <th></th>\n",
       "      <th></th>\n",
       "      <th></th>\n",
       "      <th></th>\n",
       "      <th></th>\n",
       "      <th></th>\n",
       "      <th></th>\n",
       "    </tr>\n",
       "  </thead>\n",
       "  <tbody>\n",
       "    <tr>\n",
       "      <th>3</th>\n",
       "      <td>7.45</td>\n",
       "      <td>0.415</td>\n",
       "      <td>0.33</td>\n",
       "      <td>3.15</td>\n",
       "      <td>0.0550</td>\n",
       "      <td>17.0</td>\n",
       "      <td>102.5</td>\n",
       "      <td>0.995900</td>\n",
       "      <td>3.245</td>\n",
       "      <td>0.505</td>\n",
       "      <td>10.15</td>\n",
       "      <td>0.250842</td>\n",
       "    </tr>\n",
       "    <tr>\n",
       "      <th>4</th>\n",
       "      <td>7.00</td>\n",
       "      <td>0.385</td>\n",
       "      <td>0.26</td>\n",
       "      <td>2.20</td>\n",
       "      <td>0.0505</td>\n",
       "      <td>15.0</td>\n",
       "      <td>98.0</td>\n",
       "      <td>0.994985</td>\n",
       "      <td>3.225</td>\n",
       "      <td>0.490</td>\n",
       "      <td>10.10</td>\n",
       "      <td>0.192539</td>\n",
       "    </tr>\n",
       "    <tr>\n",
       "      <th>5</th>\n",
       "      <td>7.10</td>\n",
       "      <td>0.340</td>\n",
       "      <td>0.30</td>\n",
       "      <td>2.80</td>\n",
       "      <td>0.0530</td>\n",
       "      <td>27.0</td>\n",
       "      <td>124.0</td>\n",
       "      <td>0.995920</td>\n",
       "      <td>3.200</td>\n",
       "      <td>0.510</td>\n",
       "      <td>9.60</td>\n",
       "      <td>0.253086</td>\n",
       "    </tr>\n",
       "    <tr>\n",
       "      <th>6</th>\n",
       "      <td>6.90</td>\n",
       "      <td>0.270</td>\n",
       "      <td>0.31</td>\n",
       "      <td>2.80</td>\n",
       "      <td>0.0460</td>\n",
       "      <td>29.0</td>\n",
       "      <td>116.0</td>\n",
       "      <td>0.994400</td>\n",
       "      <td>3.220</td>\n",
       "      <td>0.520</td>\n",
       "      <td>10.50</td>\n",
       "      <td>0.272727</td>\n",
       "    </tr>\n",
       "    <tr>\n",
       "      <th>7</th>\n",
       "      <td>6.80</td>\n",
       "      <td>0.280</td>\n",
       "      <td>0.32</td>\n",
       "      <td>2.60</td>\n",
       "      <td>0.0390</td>\n",
       "      <td>29.0</td>\n",
       "      <td>111.0</td>\n",
       "      <td>0.992160</td>\n",
       "      <td>3.240</td>\n",
       "      <td>0.520</td>\n",
       "      <td>11.50</td>\n",
       "      <td>0.294118</td>\n",
       "    </tr>\n",
       "    <tr>\n",
       "      <th>8</th>\n",
       "      <td>6.80</td>\n",
       "      <td>0.280</td>\n",
       "      <td>0.33</td>\n",
       "      <td>3.80</td>\n",
       "      <td>0.0360</td>\n",
       "      <td>32.0</td>\n",
       "      <td>114.0</td>\n",
       "      <td>0.991700</td>\n",
       "      <td>3.240</td>\n",
       "      <td>0.490</td>\n",
       "      <td>12.20</td>\n",
       "      <td>0.295238</td>\n",
       "    </tr>\n",
       "    <tr>\n",
       "      <th>9</th>\n",
       "      <td>7.10</td>\n",
       "      <td>0.270</td>\n",
       "      <td>0.36</td>\n",
       "      <td>2.20</td>\n",
       "      <td>0.0310</td>\n",
       "      <td>28.0</td>\n",
       "      <td>119.0</td>\n",
       "      <td>0.990300</td>\n",
       "      <td>3.280</td>\n",
       "      <td>0.460</td>\n",
       "      <td>12.50</td>\n",
       "      <td>0.274336</td>\n",
       "    </tr>\n",
       "  </tbody>\n",
       "</table>\n",
       "</div>"
      ],
      "text/plain": [
       "         fixed acidity  volatile acidity  citric acid  residual sugar  \\\n",
       "quality                                                                 \n",
       "3                 7.45             0.415         0.33            3.15   \n",
       "4                 7.00             0.385         0.26            2.20   \n",
       "5                 7.10             0.340         0.30            2.80   \n",
       "6                 6.90             0.270         0.31            2.80   \n",
       "7                 6.80             0.280         0.32            2.60   \n",
       "8                 6.80             0.280         0.33            3.80   \n",
       "9                 7.10             0.270         0.36            2.20   \n",
       "\n",
       "         chlorides  free sulfur dioxide  total sulfur dioxide   density  \\\n",
       "quality                                                                   \n",
       "3           0.0550                 17.0                 102.5  0.995900   \n",
       "4           0.0505                 15.0                  98.0  0.994985   \n",
       "5           0.0530                 27.0                 124.0  0.995920   \n",
       "6           0.0460                 29.0                 116.0  0.994400   \n",
       "7           0.0390                 29.0                 111.0  0.992160   \n",
       "8           0.0360                 32.0                 114.0  0.991700   \n",
       "9           0.0310                 28.0                 119.0  0.990300   \n",
       "\n",
       "            pH  sulphates  alcohol  FSO2_percentage  \n",
       "quality                                              \n",
       "3        3.245      0.505    10.15         0.250842  \n",
       "4        3.225      0.490    10.10         0.192539  \n",
       "5        3.200      0.510     9.60         0.253086  \n",
       "6        3.220      0.520    10.50         0.272727  \n",
       "7        3.240      0.520    11.50         0.294118  \n",
       "8        3.240      0.490    12.20         0.295238  \n",
       "9        3.280      0.460    12.50         0.274336  "
      ]
     },
     "execution_count": 126,
     "metadata": {},
     "output_type": "execute_result"
    }
   ],
   "source": [
    "# What physicochemical properties define quality wine\n",
    "wine.groupby(\"quality\").median()"
   ]
  },
  {
   "cell_type": "code",
   "execution_count": 127,
   "metadata": {},
   "outputs": [
    {
     "data": {
      "text/plain": [
       "<matplotlib.axes._subplots.AxesSubplot at 0x29418ace080>"
      ]
     },
     "execution_count": 127,
     "metadata": {},
     "output_type": "execute_result"
    },
    {
     "data": {
      "image/png": "[encoded data removed]",
      "text/plain": [
       "<matplotlib.figure.Figure at 0x29418a87710>"
      ]
     },
     "metadata": {},
     "output_type": "display_data"
    }
   ],
   "source": [
    "# Look at the distribution of classes i.e. quality in wine data\n",
    "wine.groupby(\"quality\")[\"quality\"].count().plot(kind=\"bar\")"
   ]
  },
  {
   "cell_type": "markdown",
   "metadata": {},
   "source": [
    "#### Observation:\n",
    "* More classes lie in the middle range. Most of the wine was of average quality with very few lying in both ends i.e. bad quality and good quality\n",
    "\n",
    "\n",
    "* The is clearly a class imbalance here which might affect the models perfomance so we'll have to address this when doing some feature engineering"
   ]
  },
  {
   "cell_type": "markdown",
   "metadata": {},
   "source": [
    "### Feature Engineering"
   ]
  },
  {
   "cell_type": "markdown",
   "metadata": {},
   "source": [
    "#### Bin the wines based on their alcohol content"
   ]
  },
  {
   "cell_type": "markdown",
   "metadata": {},
   "source": [
    "#### Bins:\n",
    "* Low < 10\n",
    "* Medium - Low 10 - 11.5\n",
    "* Medium 11.5 - 13.5\n",
    "* Medium - High > 13.5 - 14.5\n",
    "* High > 14.5"
   ]
  },
  {
   "cell_type": "code",
   "execution_count": 128,
   "metadata": {},
   "outputs": [],
   "source": [
    "wine[\"alcohol_content\"] = wine[\"alcohol\"].apply(lambda x: 0 if x <= 10 else(1 if x > 10 and x <= 11.5 else(2 if x > 11.5 and x <= 13.5 else(3 if x > 13.5 and x <= 14.5 else(4 if x > 14.5 else x)))))"
   ]
  },
  {
   "cell_type": "markdown",
   "metadata": {},
   "source": [
    "#### Look at the distribution of the new column alcohol_content"
   ]
  },
  {
   "cell_type": "code",
   "execution_count": 129,
   "metadata": {},
   "outputs": [
    {
     "data": {
      "text/plain": [
       "<matplotlib.axes._subplots.AxesSubplot at 0x2941896b748>"
      ]
     },
     "execution_count": 129,
     "metadata": {},
     "output_type": "execute_result"
    },
    {
     "data": {
      "image/png": "[encoded data removed]",
      "text/plain": [
       "<matplotlib.figure.Figure at 0x29418a53128>"
      ]
     },
     "metadata": {},
     "output_type": "display_data"
    }
   ],
   "source": [
    "wine[\"alcohol_content\"].hist()"
   ]
  },
  {
   "cell_type": "markdown",
   "metadata": {},
   "source": [
    "#### Bin the target feature since the data is highly imbalanced"
   ]
  },
  {
   "cell_type": "markdown",
   "metadata": {},
   "source": [
    "##### Using the 5 point scale (by John Platter), convert the points and follow the guide below:\n",
    "* 5 = classic\n",
    "* 4 = excellent\n",
    "* 3 = average\n",
    "* 2 = casual quaffing\n",
    "* 1 = very ordinary\n",
    "\n",
    "#### Bin the results to 2 major groups <= 3 as average and > 3 as good/ excellent"
   ]
  },
  {
   "cell_type": "code",
   "execution_count": 130,
   "metadata": {},
   "outputs": [],
   "source": [
    "import math"
   ]
  },
  {
   "cell_type": "code",
   "execution_count": 131,
   "metadata": {},
   "outputs": [],
   "source": [
    "# Convert the rating to a 5 point scale and drop the quality feature. \n",
    "\n",
    "wine[\"wine_rating\"] = wine[\"quality\"].apply(lambda x: 0 if math.ceil(x / 2) <=3 else(1 if math.ceil(x / 2) > 3 else x))\n",
    "wine.drop(\"quality\", axis = 1, inplace=True)"
   ]
  },
  {
   "cell_type": "code",
   "execution_count": 132,
   "metadata": {},
   "outputs": [
    {
     "data": {
      "text/plain": [
       "0    4318\n",
       "1    1011\n",
       "Name: wine_rating, dtype: int64"
      ]
     },
     "execution_count": 132,
     "metadata": {},
     "output_type": "execute_result"
    }
   ],
   "source": [
    "wine[\"wine_rating\"].value_counts().sort_index()"
   ]
  },
  {
   "cell_type": "markdown",
   "metadata": {},
   "source": [
    "#### Look at the distribution of the new feature"
   ]
  },
  {
   "cell_type": "code",
   "execution_count": 133,
   "metadata": {},
   "outputs": [
    {
     "data": {
      "text/plain": [
       "<matplotlib.axes._subplots.AxesSubplot at 0x29418b2fe10>"
      ]
     },
     "execution_count": 133,
     "metadata": {},
     "output_type": "execute_result"
    },
    {
     "data": {
      "image/png": "[encoded data removed]",
      "text/plain": [
       "<matplotlib.figure.Figure at 0x29413e0e080>"
      ]
     },
     "metadata": {},
     "output_type": "display_data"
    }
   ],
   "source": [
    "wine[\"wine_rating\"].hist()"
   ]
  },
  {
   "cell_type": "code",
   "execution_count": 134,
   "metadata": {},
   "outputs": [
    {
     "data": {
      "text/plain": [
       "<matplotlib.axes._subplots.AxesSubplot at 0x29418dfaa20>"
      ]
     },
     "execution_count": 134,
     "metadata": {},
     "output_type": "execute_result"
    },
    {
     "data": {
      "image/png": "[encoded data removed]",
      "text/plain": [
       "<matplotlib.figure.Figure at 0x29418b886a0>"
      ]
     },
     "metadata": {},
     "output_type": "display_data"
    }
   ],
   "source": [
    "# Bar plot to visualize what physicochemical properties correlate more with the wine_rating\n",
    "fig, ax = plt.subplots(figsize=(9,5))\n",
    "wine.corr()[\"wine_rating\"].sort_values(ascending=False).plot(kind=\"bar\", ax=ax)"
   ]
  },
  {
   "cell_type": "markdown",
   "metadata": {},
   "source": [
    "#### Create new feature: citric_acid_proportion"
   ]
  },
  {
   "cell_type": "markdown",
   "metadata": {},
   "source": [
    "#### Calculate the proportion of citric acid in the wine's fixed acidity"
   ]
  },
  {
   "cell_type": "code",
   "execution_count": 135,
   "metadata": {},
   "outputs": [],
   "source": [
    "wine[\"citric_acid_proportion\"] = wine[\"citric acid\"] / wine[\"fixed acidity\"]"
   ]
  },
  {
   "cell_type": "markdown",
   "metadata": {},
   "source": [
    "#### Look at the distribution of the new feature (citric_acid_proportion)"
   ]
  },
  {
   "cell_type": "code",
   "execution_count": 136,
   "metadata": {},
   "outputs": [
    {
     "data": {
      "text/plain": [
       "<matplotlib.axes._subplots.AxesSubplot at 0x29418eb02e8>"
      ]
     },
     "execution_count": 136,
     "metadata": {},
     "output_type": "execute_result"
    },
    {
     "data": {
      "image/png": "[encoded data removed]",
      "text/plain": [
       "<matplotlib.figure.Figure at 0x29418dd8208>"
      ]
     },
     "metadata": {},
     "output_type": "display_data"
    }
   ],
   "source": [
    "wine[\"citric_acid_proportion\"].hist(bins=50)"
   ]
  },
  {
   "cell_type": "markdown",
   "metadata": {},
   "source": [
    "#### Create new feature: total_acidity"
   ]
  },
  {
   "cell_type": "code",
   "execution_count": 137,
   "metadata": {},
   "outputs": [],
   "source": [
    "wine[\"total_acidity\"] = wine[\"fixed acidity\"] + wine[\"volatile acidity\"]"
   ]
  },
  {
   "cell_type": "code",
   "execution_count": 138,
   "metadata": {},
   "outputs": [
    {
     "data": {
      "text/plain": [
       "<matplotlib.axes._subplots.AxesSubplot at 0x29418dd8860>"
      ]
     },
     "execution_count": 138,
     "metadata": {},
     "output_type": "execute_result"
    },
    {
     "data": {
      "image/png": "[encoded data removed]",
      "text/plain": [
       "<matplotlib.figure.Figure at 0x29418eef630>"
      ]
     },
     "metadata": {},
     "output_type": "display_data"
    }
   ],
   "source": [
    "wine[\"total_acidity\"].hist(bins=50)"
   ]
  },
  {
   "cell_type": "markdown",
   "metadata": {},
   "source": [
    "#### Transform the features to a more Gaussian distribution since most of them seem to be right skewed and peaked"
   ]
  },
  {
   "cell_type": "markdown",
   "metadata": {},
   "source": [
    "#### We'll use the Yeo-Johnson power transform since it allows for zero values and calculates the best value of lambda for our transformation to be more Gaussian like"
   ]
  },
  {
   "cell_type": "code",
   "execution_count": 139,
   "metadata": {},
   "outputs": [],
   "source": [
    "from sklearn.preprocessing import PowerTransformer"
   ]
  },
  {
   "cell_type": "code",
   "execution_count": 140,
   "metadata": {},
   "outputs": [],
   "source": [
    "power_transform = PowerTransformer(method=\"yeo-johnson\", standardize=False)\n",
    "\n",
    "# Drop the type(categorical data) and quality(target) from then tranform remaining columns\n",
    "for col in wine.drop([\"type\", \"wine_rating\"], axis=1).columns:\n",
    "    wine[col] = power_transform.fit_transform(wine[col].values.reshape(-1,1))"
   ]
  },
  {
   "cell_type": "markdown",
   "metadata": {},
   "source": [
    "#### Check to see how the data is now distributed"
   ]
  },
  {
   "cell_type": "code",
   "execution_count": 141,
   "metadata": {},
   "outputs": [
    {
     "name": "stderr",
     "output_type": "stream",
     "text": [
      "C:\\Users\\Kelvin Kinda\\Anaconda3\\lib\\site-packages\\IPython\\core\\interactiveshell.py:2910: UserWarning: To output multiple subplots, the figure containing the passed axes is being cleared\n",
      "  exec(code_obj, self.user_global_ns, self.user_ns)\n"
     ]
    },
    {
     "data": {
      "text/plain": [
       "array([[<matplotlib.axes._subplots.AxesSubplot object at 0x0000029418FE05C0>,\n",
       "        <matplotlib.axes._subplots.AxesSubplot object at 0x00000294190F35F8>,\n",
       "        <matplotlib.axes._subplots.AxesSubplot object at 0x000002941912AB00>,\n",
       "        <matplotlib.axes._subplots.AxesSubplot object at 0x00000294190FB668>],\n",
       "       [<matplotlib.axes._subplots.AxesSubplot object at 0x0000029418A82550>,\n",
       "        <matplotlib.axes._subplots.AxesSubplot object at 0x0000029418A82C18>,\n",
       "        <matplotlib.axes._subplots.AxesSubplot object at 0x00000294183AA128>,\n",
       "        <matplotlib.axes._subplots.AxesSubplot object at 0x000002941838BC88>],\n",
       "       [<matplotlib.axes._subplots.AxesSubplot object at 0x0000029418A5D0B8>,\n",
       "        <matplotlib.axes._subplots.AxesSubplot object at 0x0000029419186630>,\n",
       "        <matplotlib.axes._subplots.AxesSubplot object at 0x00000294191A36D8>,\n",
       "        <matplotlib.axes._subplots.AxesSubplot object at 0x00000294191FC240>],\n",
       "       [<matplotlib.axes._subplots.AxesSubplot object at 0x0000029419194320>,\n",
       "        <matplotlib.axes._subplots.AxesSubplot object at 0x000002941925E9B0>,\n",
       "        <matplotlib.axes._subplots.AxesSubplot object at 0x0000029419295FD0>,\n",
       "        <matplotlib.axes._subplots.AxesSubplot object at 0x00000294192D5630>]],\n",
       "      dtype=object)"
      ]
     },
     "execution_count": 141,
     "metadata": {},
     "output_type": "execute_result"
    },
    {
     "data": {
      "image/png": "[encoded data removed]",
      "text/plain": [
       "<matplotlib.figure.Figure at 0x29418fcc898>"
      ]
     },
     "metadata": {},
     "output_type": "display_data"
    }
   ],
   "source": [
    "fig, ax = plt.subplots(figsize=(12, 12))\n",
    "\n",
    "wine.hist(bins=50, ax=ax)"
   ]
  },
  {
   "cell_type": "markdown",
   "metadata": {},
   "source": [
    "#### Observation:\n",
    "* The data looks way better now with a Gaussian (normal) like distribution. This has helped remove most values in the extreme ends"
   ]
  },
  {
   "cell_type": "markdown",
   "metadata": {},
   "source": [
    "#### Scale features since they are on different scales"
   ]
  },
  {
   "cell_type": "code",
   "execution_count": 144,
   "metadata": {},
   "outputs": [],
   "source": [
    "from sklearn.preprocessing import StandardScaler"
   ]
  },
  {
   "cell_type": "code",
   "execution_count": 145,
   "metadata": {},
   "outputs": [],
   "source": [
    "scaler = StandardScaler()\n",
    "\n",
    "for col in wine.drop([\"wine_rating\", \"type\"], axis=1).columns:\n",
    "    wine[col] = scaler.fit_transform(wine[col].values.reshape(-1,1))"
   ]
  },
  {
   "cell_type": "markdown",
   "metadata": {},
   "source": [
    "#### Encode categorical features"
   ]
  },
  {
   "cell_type": "code",
   "execution_count": 146,
   "metadata": {},
   "outputs": [],
   "source": [
    "from sklearn.preprocessing import OneHotEncoder"
   ]
  },
  {
   "cell_type": "code",
   "execution_count": 147,
   "metadata": {},
   "outputs": [],
   "source": [
    "# Encode the type of wine\n",
    "onehot_enc = OneHotEncoder(sparse=False)\n",
    "wine[\"type\"] = onehot_enc.fit_transform(wine[\"type\"].values.reshape(-1,1))"
   ]
  },
  {
   "cell_type": "markdown",
   "metadata": {},
   "source": [
    "### Model the Data"
   ]
  },
  {
   "cell_type": "code",
   "execution_count": 148,
   "metadata": {},
   "outputs": [],
   "source": [
    "from sklearn.model_selection import train_test_split"
   ]
  },
  {
   "cell_type": "code",
   "execution_count": 149,
   "metadata": {},
   "outputs": [],
   "source": [
    "# Split the data into a train and test set\n",
    "X = wine.drop(\"wine_rating\", axis=1)\n",
    "# X = X[features]\n",
    "y = wine[\"wine_rating\"]\n",
    "\n",
    "X_train, X_test, y_train, y_test = train_test_split(X, y, test_size=0.2, random_state=0)"
   ]
  },
  {
   "cell_type": "markdown",
   "metadata": {},
   "source": [
    "#### Resample the data to reduce the class imbalances "
   ]
  },
  {
   "cell_type": "code",
   "execution_count": 150,
   "metadata": {},
   "outputs": [],
   "source": [
    "# from imblearn.over_sampling import SMOTE"
   ]
  },
  {
   "cell_type": "code",
   "execution_count": 151,
   "metadata": {},
   "outputs": [],
   "source": [
    "# Combine the train data for oversampling\n",
    "# train = pd.concat([X_train, y_train], axis=1)"
   ]
  },
  {
   "cell_type": "code",
   "execution_count": 152,
   "metadata": {},
   "outputs": [],
   "source": [
    "# Use the SMOTE algorithm to oversample\n",
    "# X_train_res, y_train_res = SMOTE(k_neighbors=2, random_state=0).fit_resample(X_train, y_train)"
   ]
  },
  {
   "cell_type": "code",
   "execution_count": 153,
   "metadata": {},
   "outputs": [],
   "source": [
    "# X_train_res.shape"
   ]
  },
  {
   "cell_type": "code",
   "execution_count": 154,
   "metadata": {},
   "outputs": [],
   "source": [
    "from sklearn.linear_model import LogisticRegression\n",
    "from sklearn.tree import DecisionTreeClassifier\n",
    "from sklearn.ensemble import RandomForestClassifier, GradientBoostingClassifier\n",
    "from sklearn.neighbors import KNeighborsClassifier\n",
    "from sklearn.svm import SVC\n",
    "from sklearn.metrics import confusion_matrix, classification_report, log_loss"
   ]
  },
  {
   "cell_type": "markdown",
   "metadata": {},
   "source": [
    "#### Define a function to calculate the scores"
   ]
  },
  {
   "cell_type": "code",
   "execution_count": 155,
   "metadata": {},
   "outputs": [],
   "source": [
    "def scores(y_test, y_preds, clf):\n",
    "    print(\"Classification Report: \\n{}\".format(classification_report(y_test, y_preds)))\n",
    "    \n",
    "    cm = confusion_matrix(y_test, y_preds)\n",
    "    ax= plt.subplot()\n",
    "    sns.heatmap(cm, annot=True, ax=ax, fmt=\"g\", cmap='Blues') \n",
    "    \n",
    "#     labels, title and ticks\n",
    "    ax.set_xlabel('Predicted labels')\n",
    "    ax.set_ylabel('True labels')\n",
    "    ax.set_title('Confusion Matrix') \n",
    "    ax.xaxis.set_ticklabels(clf.classes_)\n",
    "    ax.yaxis.set_ticklabels(clf.classes_)"
   ]
  },
  {
   "cell_type": "markdown",
   "metadata": {},
   "source": [
    "#### LogisticRegression"
   ]
  },
  {
   "cell_type": "code",
   "execution_count": 156,
   "metadata": {},
   "outputs": [],
   "source": [
    "logistic_params = {}"
   ]
  },
  {
   "cell_type": "code",
   "execution_count": 173,
   "metadata": {},
   "outputs": [
    {
     "name": "stdout",
     "output_type": "stream",
     "text": [
      "Classification Report: \n",
      "              precision    recall  f1-score   support\n",
      "\n",
      "           0       0.84      0.95      0.89       863\n",
      "           1       0.55      0.26      0.35       203\n",
      "\n",
      "    accuracy                           0.82      1066\n",
      "   macro avg       0.70      0.60      0.62      1066\n",
      "weighted avg       0.79      0.82      0.79      1066\n",
      "\n"
     ]
    },
    {
     "data": {
      "image/png": "[encoded data removed]",
      "text/plain": [
       "<matplotlib.figure.Figure at 0x29419a508d0>"
      ]
     },
     "metadata": {},
     "output_type": "display_data"
    }
   ],
   "source": [
    "# Define an empty dictionary to hold the models parameters\n",
    "logistic = LogisticRegression(**logistic_params)\n",
    "logistic.fit(X_train, y_train)\n",
    "\n",
    "y_preds = logistic.predict(X_test)\n",
    "\n",
    "scores(y_test, y_preds, logistic)"
   ]
  },
  {
   "cell_type": "markdown",
   "metadata": {},
   "source": [
    "#### Decision Tree"
   ]
  },
  {
   "cell_type": "code",
   "execution_count": 174,
   "metadata": {},
   "outputs": [],
   "source": [
    "tree_params = {}"
   ]
  },
  {
   "cell_type": "code",
   "execution_count": 175,
   "metadata": {},
   "outputs": [
    {
     "name": "stdout",
     "output_type": "stream",
     "text": [
      "Classification Report: \n",
      "              precision    recall  f1-score   support\n",
      "\n",
      "           0       0.86      0.86      0.86       863\n",
      "           1       0.40      0.40      0.40       203\n",
      "\n",
      "    accuracy                           0.77      1066\n",
      "   macro avg       0.63      0.63      0.63      1066\n",
      "weighted avg       0.77      0.77      0.77      1066\n",
      "\n"
     ]
    },
    {
     "data": {
      "image/png": "[encoded data removed]",
      "text/plain": [
       "<matplotlib.figure.Figure at 0x2941a26fb38>"
      ]
     },
     "metadata": {},
     "output_type": "display_data"
    }
   ],
   "source": [
    "tree = DecisionTreeClassifier(**tree_params)\n",
    "tree.fit(X_train, y_train)\n",
    "\n",
    "y_preds = tree.predict(X_test)\n",
    "scores(y_test, y_preds, tree)"
   ]
  },
  {
   "cell_type": "markdown",
   "metadata": {},
   "source": [
    "#### Random Forest"
   ]
  },
  {
   "cell_type": "code",
   "execution_count": 160,
   "metadata": {},
   "outputs": [],
   "source": [
    "forest_params = {}"
   ]
  },
  {
   "cell_type": "code",
   "execution_count": 161,
   "metadata": {},
   "outputs": [
    {
     "name": "stdout",
     "output_type": "stream",
     "text": [
      "Classification Report: \n",
      "              precision    recall  f1-score   support\n",
      "\n",
      "           0       0.86      0.95      0.90       863\n",
      "           1       0.59      0.33      0.42       203\n",
      "\n",
      "    accuracy                           0.83      1066\n",
      "   macro avg       0.72      0.64      0.66      1066\n",
      "weighted avg       0.81      0.83      0.81      1066\n",
      "\n"
     ]
    },
    {
     "data": {
      "image/png": "[encoded data removed]",
      "text/plain": [
       "<matplotlib.figure.Figure at 0x29413e94080>"
      ]
     },
     "metadata": {},
     "output_type": "display_data"
    }
   ],
   "source": [
    "forest = RandomForestClassifier(**forest_params)\n",
    "forest.fit(X_train, y_train)\n",
    "\n",
    "y_preds = forest.predict(X_test)\n",
    "scores(y_test, y_preds, forest)"
   ]
  },
  {
   "cell_type": "markdown",
   "metadata": {},
   "source": [
    "#### Gradient Boosting"
   ]
  },
  {
   "cell_type": "code",
   "execution_count": 162,
   "metadata": {},
   "outputs": [
    {
     "name": "stdout",
     "output_type": "stream",
     "text": [
      "Classification Report: \n",
      "              precision    recall  f1-score   support\n",
      "\n",
      "           0       0.86      0.94      0.90       863\n",
      "           1       0.58      0.35      0.44       203\n",
      "\n",
      "    accuracy                           0.83      1066\n",
      "   macro avg       0.72      0.65      0.67      1066\n",
      "weighted avg       0.81      0.83      0.81      1066\n",
      "\n"
     ]
    },
    {
     "data": {
      "image/png": "[encoded data removed]",
      "text/plain": [
       "<matplotlib.figure.Figure at 0x2941a2252e8>"
      ]
     },
     "metadata": {},
     "output_type": "display_data"
    }
   ],
   "source": [
    "gboost_params = {}\n",
    "\n",
    "gboost = GradientBoostingClassifier(**gboost_params)\n",
    "gboost.fit(X_train, y_train)\n",
    "\n",
    "y_preds = gboost.predict(X_test)\n",
    "scores(y_test, y_preds, gboost)"
   ]
  },
  {
   "cell_type": "markdown",
   "metadata": {},
   "source": [
    "#### KNN"
   ]
  },
  {
   "cell_type": "code",
   "execution_count": 163,
   "metadata": {},
   "outputs": [
    {
     "name": "stdout",
     "output_type": "stream",
     "text": [
      "Classification Report: \n",
      "              precision    recall  f1-score   support\n",
      "\n",
      "           0       0.87      0.92      0.90       863\n",
      "           1       0.57      0.43      0.49       203\n",
      "\n",
      "    accuracy                           0.83      1066\n",
      "   macro avg       0.72      0.68      0.70      1066\n",
      "weighted avg       0.82      0.83      0.82      1066\n",
      "\n"
     ]
    },
    {
     "data": {
      "image/png": "[encoded data removed]",
      "text/plain": [
       "<matplotlib.figure.Figure at 0x2941a2a4be0>"
      ]
     },
     "metadata": {},
     "output_type": "display_data"
    }
   ],
   "source": [
    "knn_params = {}\n",
    "\n",
    "knn = KNeighborsClassifier(**knn_params)\n",
    "knn.fit(X_train, y_train)\n",
    "\n",
    "y_preds = knn.predict(X_test)\n",
    "scores(y_test, y_preds, knn)"
   ]
  },
  {
   "cell_type": "markdown",
   "metadata": {},
   "source": [
    "#### SVC"
   ]
  },
  {
   "cell_type": "code",
   "execution_count": 164,
   "metadata": {},
   "outputs": [
    {
     "name": "stdout",
     "output_type": "stream",
     "text": [
      "Classification Report: \n",
      "              precision    recall  f1-score   support\n",
      "\n",
      "           0       0.85      0.96      0.90       863\n",
      "           1       0.61      0.28      0.39       203\n",
      "\n",
      "    accuracy                           0.83      1066\n",
      "   macro avg       0.73      0.62      0.64      1066\n",
      "weighted avg       0.80      0.83      0.80      1066\n",
      "\n"
     ]
    },
    {
     "data": {
      "image/png": "[encoded data removed]",
      "text/plain": [
       "<matplotlib.figure.Figure at 0x2941a336240>"
      ]
     },
     "metadata": {},
     "output_type": "display_data"
    }
   ],
   "source": [
    "svc_params = {}\n",
    "\n",
    "svc = SVC()\n",
    "svc.fit(X_train, y_train)\n",
    "\n",
    "y_preds = svc.predict(X_test)\n",
    "scores(y_test, y_preds, svc)"
   ]
  },
  {
   "cell_type": "markdown",
   "metadata": {},
   "source": [
    "### Feature Selection"
   ]
  },
  {
   "cell_type": "markdown",
   "metadata": {},
   "source": [
    "#### Logistic Regression"
   ]
  },
  {
   "cell_type": "markdown",
   "metadata": {},
   "source": [
    "#### Decision Tree"
   ]
  },
  {
   "cell_type": "code",
   "execution_count": 165,
   "metadata": {},
   "outputs": [
    {
     "data": {
      "text/html": [
       "<div>\n",
       "<style scoped>\n",
       "    .dataframe tbody tr th:only-of-type {\n",
       "        vertical-align: middle;\n",
       "    }\n",
       "\n",
       "    .dataframe tbody tr th {\n",
       "        vertical-align: top;\n",
       "    }\n",
       "\n",
       "    .dataframe thead th {\n",
       "        text-align: right;\n",
       "    }\n",
       "</style>\n",
       "<table border=\"1\" class=\"dataframe\">\n",
       "  <thead>\n",
       "    <tr style=\"text-align: right;\">\n",
       "      <th></th>\n",
       "      <th>Feature</th>\n",
       "      <th>Importance</th>\n",
       "    </tr>\n",
       "  </thead>\n",
       "  <tbody>\n",
       "    <tr>\n",
       "      <th>0</th>\n",
       "      <td>type</td>\n",
       "      <td>0.00</td>\n",
       "    </tr>\n",
       "    <tr>\n",
       "      <th>1</th>\n",
       "      <td>fixed acidity</td>\n",
       "      <td>2.77</td>\n",
       "    </tr>\n",
       "    <tr>\n",
       "      <th>2</th>\n",
       "      <td>volatile acidity</td>\n",
       "      <td>6.40</td>\n",
       "    </tr>\n",
       "    <tr>\n",
       "      <th>3</th>\n",
       "      <td>citric acid</td>\n",
       "      <td>4.16</td>\n",
       "    </tr>\n",
       "    <tr>\n",
       "      <th>4</th>\n",
       "      <td>residual sugar</td>\n",
       "      <td>6.74</td>\n",
       "    </tr>\n",
       "    <tr>\n",
       "      <th>5</th>\n",
       "      <td>chlorides</td>\n",
       "      <td>6.53</td>\n",
       "    </tr>\n",
       "    <tr>\n",
       "      <th>6</th>\n",
       "      <td>free sulfur dioxide</td>\n",
       "      <td>4.16</td>\n",
       "    </tr>\n",
       "    <tr>\n",
       "      <th>7</th>\n",
       "      <td>total sulfur dioxide</td>\n",
       "      <td>7.47</td>\n",
       "    </tr>\n",
       "    <tr>\n",
       "      <th>8</th>\n",
       "      <td>density</td>\n",
       "      <td>6.67</td>\n",
       "    </tr>\n",
       "    <tr>\n",
       "      <th>9</th>\n",
       "      <td>pH</td>\n",
       "      <td>7.99</td>\n",
       "    </tr>\n",
       "    <tr>\n",
       "      <th>10</th>\n",
       "      <td>sulphates</td>\n",
       "      <td>7.17</td>\n",
       "    </tr>\n",
       "    <tr>\n",
       "      <th>11</th>\n",
       "      <td>alcohol</td>\n",
       "      <td>22.97</td>\n",
       "    </tr>\n",
       "    <tr>\n",
       "      <th>12</th>\n",
       "      <td>FSO2_percentage</td>\n",
       "      <td>6.97</td>\n",
       "    </tr>\n",
       "    <tr>\n",
       "      <th>13</th>\n",
       "      <td>alcohol_content</td>\n",
       "      <td>0.00</td>\n",
       "    </tr>\n",
       "    <tr>\n",
       "      <th>14</th>\n",
       "      <td>citric_acid_proportion</td>\n",
       "      <td>6.20</td>\n",
       "    </tr>\n",
       "    <tr>\n",
       "      <th>15</th>\n",
       "      <td>total_acidity</td>\n",
       "      <td>3.78</td>\n",
       "    </tr>\n",
       "  </tbody>\n",
       "</table>\n",
       "</div>"
      ],
      "text/plain": [
       "                   Feature  Importance\n",
       "0                     type        0.00\n",
       "1            fixed acidity        2.77\n",
       "2         volatile acidity        6.40\n",
       "3              citric acid        4.16\n",
       "4           residual sugar        6.74\n",
       "5                chlorides        6.53\n",
       "6      free sulfur dioxide        4.16\n",
       "7     total sulfur dioxide        7.47\n",
       "8                  density        6.67\n",
       "9                       pH        7.99\n",
       "10               sulphates        7.17\n",
       "11                 alcohol       22.97\n",
       "12         FSO2_percentage        6.97\n",
       "13         alcohol_content        0.00\n",
       "14  citric_acid_proportion        6.20\n",
       "15           total_acidity        3.78"
      ]
     },
     "execution_count": 165,
     "metadata": {},
     "output_type": "execute_result"
    }
   ],
   "source": [
    "tree_importance = pd.DataFrame(list(zip(wine.drop(\"wine_rating\", axis=1).columns,np.round(np.divide(tree.feature_importances_, np.sum(tree.feature_importances_)) * 100, decimals=2))), columns=[\"Feature\", \"Importance\"])\n",
    "tree_importance"
   ]
  },
  {
   "cell_type": "markdown",
   "metadata": {},
   "source": [
    "#### Random Forest"
   ]
  },
  {
   "cell_type": "code",
   "execution_count": 166,
   "metadata": {},
   "outputs": [
    {
     "data": {
      "text/html": [
       "<div>\n",
       "<style scoped>\n",
       "    .dataframe tbody tr th:only-of-type {\n",
       "        vertical-align: middle;\n",
       "    }\n",
       "\n",
       "    .dataframe tbody tr th {\n",
       "        vertical-align: top;\n",
       "    }\n",
       "\n",
       "    .dataframe thead th {\n",
       "        text-align: right;\n",
       "    }\n",
       "</style>\n",
       "<table border=\"1\" class=\"dataframe\">\n",
       "  <thead>\n",
       "    <tr style=\"text-align: right;\">\n",
       "      <th></th>\n",
       "      <th>Feature</th>\n",
       "      <th>Importance</th>\n",
       "    </tr>\n",
       "  </thead>\n",
       "  <tbody>\n",
       "    <tr>\n",
       "      <th>0</th>\n",
       "      <td>type</td>\n",
       "      <td>0.16</td>\n",
       "    </tr>\n",
       "    <tr>\n",
       "      <th>1</th>\n",
       "      <td>fixed acidity</td>\n",
       "      <td>4.35</td>\n",
       "    </tr>\n",
       "    <tr>\n",
       "      <th>2</th>\n",
       "      <td>volatile acidity</td>\n",
       "      <td>6.59</td>\n",
       "    </tr>\n",
       "    <tr>\n",
       "      <th>3</th>\n",
       "      <td>citric acid</td>\n",
       "      <td>4.83</td>\n",
       "    </tr>\n",
       "    <tr>\n",
       "      <th>4</th>\n",
       "      <td>residual sugar</td>\n",
       "      <td>6.48</td>\n",
       "    </tr>\n",
       "    <tr>\n",
       "      <th>5</th>\n",
       "      <td>chlorides</td>\n",
       "      <td>6.75</td>\n",
       "    </tr>\n",
       "    <tr>\n",
       "      <th>6</th>\n",
       "      <td>free sulfur dioxide</td>\n",
       "      <td>5.32</td>\n",
       "    </tr>\n",
       "    <tr>\n",
       "      <th>7</th>\n",
       "      <td>total sulfur dioxide</td>\n",
       "      <td>6.40</td>\n",
       "    </tr>\n",
       "    <tr>\n",
       "      <th>8</th>\n",
       "      <td>density</td>\n",
       "      <td>8.74</td>\n",
       "    </tr>\n",
       "    <tr>\n",
       "      <th>9</th>\n",
       "      <td>pH</td>\n",
       "      <td>6.45</td>\n",
       "    </tr>\n",
       "    <tr>\n",
       "      <th>10</th>\n",
       "      <td>sulphates</td>\n",
       "      <td>6.69</td>\n",
       "    </tr>\n",
       "    <tr>\n",
       "      <th>11</th>\n",
       "      <td>alcohol</td>\n",
       "      <td>12.94</td>\n",
       "    </tr>\n",
       "    <tr>\n",
       "      <th>12</th>\n",
       "      <td>FSO2_percentage</td>\n",
       "      <td>6.81</td>\n",
       "    </tr>\n",
       "    <tr>\n",
       "      <th>13</th>\n",
       "      <td>alcohol_content</td>\n",
       "      <td>5.46</td>\n",
       "    </tr>\n",
       "    <tr>\n",
       "      <th>14</th>\n",
       "      <td>wine_rating</td>\n",
       "      <td>6.58</td>\n",
       "    </tr>\n",
       "    <tr>\n",
       "      <th>15</th>\n",
       "      <td>citric_acid_proportion</td>\n",
       "      <td>5.45</td>\n",
       "    </tr>\n",
       "  </tbody>\n",
       "</table>\n",
       "</div>"
      ],
      "text/plain": [
       "                   Feature  Importance\n",
       "0                     type        0.16\n",
       "1            fixed acidity        4.35\n",
       "2         volatile acidity        6.59\n",
       "3              citric acid        4.83\n",
       "4           residual sugar        6.48\n",
       "5                chlorides        6.75\n",
       "6      free sulfur dioxide        5.32\n",
       "7     total sulfur dioxide        6.40\n",
       "8                  density        8.74\n",
       "9                       pH        6.45\n",
       "10               sulphates        6.69\n",
       "11                 alcohol       12.94\n",
       "12         FSO2_percentage        6.81\n",
       "13         alcohol_content        5.46\n",
       "14             wine_rating        6.58\n",
       "15  citric_acid_proportion        5.45"
      ]
     },
     "execution_count": 166,
     "metadata": {},
     "output_type": "execute_result"
    }
   ],
   "source": [
    "forest_importance = pd.DataFrame(list(zip(wine.columns,np.round(np.divide(forest.feature_importances_, np.sum(forest.feature_importances_)) * 100, decimals=2))), columns=[\"Feature\", \"Importance\"])\n",
    "forest_importance"
   ]
  },
  {
   "cell_type": "markdown",
   "metadata": {},
   "source": [
    "#### Gradient Boosting"
   ]
  },
  {
   "cell_type": "code",
   "execution_count": 167,
   "metadata": {},
   "outputs": [
    {
     "data": {
      "text/html": [
       "<div>\n",
       "<style scoped>\n",
       "    .dataframe tbody tr th:only-of-type {\n",
       "        vertical-align: middle;\n",
       "    }\n",
       "\n",
       "    .dataframe tbody tr th {\n",
       "        vertical-align: top;\n",
       "    }\n",
       "\n",
       "    .dataframe thead th {\n",
       "        text-align: right;\n",
       "    }\n",
       "</style>\n",
       "<table border=\"1\" class=\"dataframe\">\n",
       "  <thead>\n",
       "    <tr style=\"text-align: right;\">\n",
       "      <th></th>\n",
       "      <th>Feature</th>\n",
       "      <th>Importance</th>\n",
       "    </tr>\n",
       "  </thead>\n",
       "  <tbody>\n",
       "    <tr>\n",
       "      <th>0</th>\n",
       "      <td>type</td>\n",
       "      <td>0.21</td>\n",
       "    </tr>\n",
       "    <tr>\n",
       "      <th>1</th>\n",
       "      <td>fixed acidity</td>\n",
       "      <td>0.68</td>\n",
       "    </tr>\n",
       "    <tr>\n",
       "      <th>2</th>\n",
       "      <td>volatile acidity</td>\n",
       "      <td>6.47</td>\n",
       "    </tr>\n",
       "    <tr>\n",
       "      <th>3</th>\n",
       "      <td>citric acid</td>\n",
       "      <td>2.95</td>\n",
       "    </tr>\n",
       "    <tr>\n",
       "      <th>4</th>\n",
       "      <td>residual sugar</td>\n",
       "      <td>4.42</td>\n",
       "    </tr>\n",
       "    <tr>\n",
       "      <th>5</th>\n",
       "      <td>chlorides</td>\n",
       "      <td>4.86</td>\n",
       "    </tr>\n",
       "    <tr>\n",
       "      <th>6</th>\n",
       "      <td>free sulfur dioxide</td>\n",
       "      <td>3.15</td>\n",
       "    </tr>\n",
       "    <tr>\n",
       "      <th>7</th>\n",
       "      <td>total sulfur dioxide</td>\n",
       "      <td>3.16</td>\n",
       "    </tr>\n",
       "    <tr>\n",
       "      <th>8</th>\n",
       "      <td>density</td>\n",
       "      <td>3.43</td>\n",
       "    </tr>\n",
       "    <tr>\n",
       "      <th>9</th>\n",
       "      <td>pH</td>\n",
       "      <td>4.81</td>\n",
       "    </tr>\n",
       "    <tr>\n",
       "      <th>10</th>\n",
       "      <td>sulphates</td>\n",
       "      <td>4.92</td>\n",
       "    </tr>\n",
       "    <tr>\n",
       "      <th>11</th>\n",
       "      <td>alcohol</td>\n",
       "      <td>49.66</td>\n",
       "    </tr>\n",
       "    <tr>\n",
       "      <th>12</th>\n",
       "      <td>FSO2_percentage</td>\n",
       "      <td>5.53</td>\n",
       "    </tr>\n",
       "    <tr>\n",
       "      <th>13</th>\n",
       "      <td>alcohol_content</td>\n",
       "      <td>0.16</td>\n",
       "    </tr>\n",
       "    <tr>\n",
       "      <th>14</th>\n",
       "      <td>wine_rating</td>\n",
       "      <td>4.30</td>\n",
       "    </tr>\n",
       "    <tr>\n",
       "      <th>15</th>\n",
       "      <td>citric_acid_proportion</td>\n",
       "      <td>1.27</td>\n",
       "    </tr>\n",
       "  </tbody>\n",
       "</table>\n",
       "</div>"
      ],
      "text/plain": [
       "                   Feature  Importance\n",
       "0                     type        0.21\n",
       "1            fixed acidity        0.68\n",
       "2         volatile acidity        6.47\n",
       "3              citric acid        2.95\n",
       "4           residual sugar        4.42\n",
       "5                chlorides        4.86\n",
       "6      free sulfur dioxide        3.15\n",
       "7     total sulfur dioxide        3.16\n",
       "8                  density        3.43\n",
       "9                       pH        4.81\n",
       "10               sulphates        4.92\n",
       "11                 alcohol       49.66\n",
       "12         FSO2_percentage        5.53\n",
       "13         alcohol_content        0.16\n",
       "14             wine_rating        4.30\n",
       "15  citric_acid_proportion        1.27"
      ]
     },
     "execution_count": 167,
     "metadata": {},
     "output_type": "execute_result"
    }
   ],
   "source": [
    "gboost_importance = pd.DataFrame(list(zip(wine.columns,np.round(np.divide(gboost.feature_importances_, np.sum(gboost.feature_importances_)) * 100, decimals=2))), columns=[\"Feature\", \"Importance\"])\n",
    "gboost_importance"
   ]
  },
  {
   "cell_type": "code",
   "execution_count": 168,
   "metadata": {},
   "outputs": [
    {
     "name": "stdout",
     "output_type": "stream",
     "text": [
      "['alcohol' 'volatile acidity' 'FSO2_percentage' 'pH' 'density' 'sulphates'\n",
      " 'chlorides' 'residual sugar' 'citric_acid_proportion'\n",
      " 'total sulfur dioxide' 'free sulfur dioxide']\n"
     ]
    }
   ],
   "source": [
    "overall = pd.concat([tree_importance, forest_importance['Importance'], gboost_importance[\"Importance\"]], axis=1)\n",
    "\n",
    "total =  np.sum(tree_importance[\"Importance\"]) + np.sum(forest_importance[\"Importance\"]) + np.sum(gboost_importance[\"Importance\"])\n",
    "\n",
    "overall[\"overall_imp\"] = overall.apply(lambda x: np.divide(np.sum(x.drop(\"Feature\")), 300) * 100, axis=1)\n",
    "\n",
    "features = overall.sort_values(by=\"overall_imp\", ascending=False).iloc[: 11][\"Feature\"].values\n",
    "print(features)"
   ]
  },
  {
   "cell_type": "markdown",
   "metadata": {},
   "source": [
    "#### Observations:\n",
    "**Top Features**\n",
    "'alcohol' \n",
    "'FSO2_percentage' \n",
    "'density' \n",
    "'chlorides' \n",
    "'volatile acidity'\n",
    "'sulphates' \n",
    "'pH' \n",
    "'residual sugar' \n",
    "'citric_acid_proportion'\n",
    "'total sulfur dioxide'  \n",
    "'citric acid'"
   ]
  },
  {
   "cell_type": "markdown",
   "metadata": {},
   "source": [
    "### Hyperparameter Tuning"
   ]
  },
  {
   "cell_type": "code",
   "execution_count": 169,
   "metadata": {},
   "outputs": [],
   "source": [
    "from sklearn.model_selection import GridSearchCV"
   ]
  },
  {
   "cell_type": "markdown",
   "metadata": {},
   "source": [
    "#### Create a function to update the models' hyperparameters"
   ]
  },
  {
   "cell_type": "code",
   "execution_count": 170,
   "metadata": {},
   "outputs": [],
   "source": [
    "def updateHyperparams(model, param_grid):\n",
    "    gridsearch = GridSearchCV(estimator=model, \n",
    "                              param_grid=param_grid, \n",
    "                              scoring=\"accuracy\",\n",
    "                              cv=7,\n",
    "                              n_jobs = 6,\n",
    "                              verbose=1)\n",
    "    \n",
    "    gridsearch.fit(X_train, y_train)\n",
    "    \n",
    "    print(gridsearch.best_params_)\n",
    "    \n",
    "    return gridsearch.best_params_"
   ]
  },
  {
   "cell_type": "markdown",
   "metadata": {},
   "source": [
    "#### Logistic Regression"
   ]
  },
  {
   "cell_type": "code",
   "execution_count": 171,
   "metadata": {
    "scrolled": true
   },
   "outputs": [
    {
     "name": "stdout",
     "output_type": "stream",
     "text": [
      "Fitting 7 folds for each of 480 candidates, totalling 3360 fits\n"
     ]
    },
    {
     "name": "stderr",
     "output_type": "stream",
     "text": [
      "[Parallel(n_jobs=6)]: Using backend LokyBackend with 6 concurrent workers.\n",
      "[Parallel(n_jobs=6)]: Done  38 tasks      | elapsed:    3.9s\n",
      "[Parallel(n_jobs=6)]: Done 530 tasks      | elapsed:   12.1s\n",
      "[Parallel(n_jobs=6)]: Done 1268 tasks      | elapsed:   27.3s\n",
      "[Parallel(n_jobs=6)]: Done 2273 tasks      | elapsed:   50.0s\n",
      "[Parallel(n_jobs=6)]: Done 3226 tasks      | elapsed:  1.4min\n",
      "[Parallel(n_jobs=6)]: Done 3349 out of 3360 | elapsed:  1.5min remaining:    0.2s\n"
     ]
    },
    {
     "name": "stdout",
     "output_type": "stream",
     "text": [
      "{'C': 0.1, 'max_iter': 100, 'penalty': 'l2', 'solver': 'newton-cg'}\n"
     ]
    },
    {
     "name": "stderr",
     "output_type": "stream",
     "text": [
      "[Parallel(n_jobs=6)]: Done 3360 out of 3360 | elapsed:  1.6min finished\n"
     ]
    }
   ],
   "source": [
    "grid = {\"penalty\": ['l1', 'l2', 'elasticnet', 'none'],\n",
    "        \"C\": [0.0001, 0.001, 0.01, 0.1, 1, 10],\n",
    "        \"solver\": ['newton-cg', 'lbfgs','sag', 'saga'], \n",
    "        \"max_iter\": [100, 200, 300, 400, 500]}\n",
    "\n",
    "logistic_params = updateHyperparams(logistic, grid)"
   ]
  },
  {
   "cell_type": "markdown",
   "metadata": {},
   "source": [
    "#### Decision Tree"
   ]
  },
  {
   "cell_type": "code",
   "execution_count": 172,
   "metadata": {},
   "outputs": [
    {
     "name": "stdout",
     "output_type": "stream",
     "text": [
      "Fitting 7 folds for each of 72 candidates, totalling 504 fits\n"
     ]
    },
    {
     "name": "stderr",
     "output_type": "stream",
     "text": [
      "[Parallel(n_jobs=6)]: Using backend LokyBackend with 6 concurrent workers.\n",
      "[Parallel(n_jobs=6)]: Done 100 tasks      | elapsed:    0.7s\n"
     ]
    },
    {
     "name": "stdout",
     "output_type": "stream",
     "text": [
      "{'max_features': 'auto', 'min_samples_split': 11, 'splitter': 'random'}\n"
     ]
    },
    {
     "name": "stderr",
     "output_type": "stream",
     "text": [
      "[Parallel(n_jobs=6)]: Done 493 out of 504 | elapsed:    2.3s remaining:    0.0s\n",
      "[Parallel(n_jobs=6)]: Done 504 out of 504 | elapsed:    2.4s finished\n"
     ]
    }
   ],
   "source": [
    "grid = {\"splitter\": [\"best\", \"random\"],\n",
    "        \"min_samples_split\": [2,3,4,5,6,7,8,9,10,11,12,13],\n",
    "        \"max_features\": [\"auto\", \"sqrt\", \"log2\"]}\n",
    "\n",
    "tree_params = updateHyperparams(tree, grid)"
   ]
  },
  {
   "cell_type": "markdown",
   "metadata": {},
   "source": [
    "#### Random Forest"
   ]
  },
  {
   "cell_type": "code",
   "execution_count": 80,
   "metadata": {},
   "outputs": [
    {
     "name": "stderr",
     "output_type": "stream",
     "text": [
      "[Parallel(n_jobs=6)]: Using backend LokyBackend with 6 concurrent workers.\n"
     ]
    },
    {
     "name": "stdout",
     "output_type": "stream",
     "text": [
      "Fitting 7 folds for each of 60 candidates, totalling 420 fits\n"
     ]
    },
    {
     "name": "stderr",
     "output_type": "stream",
     "text": [
      "[Parallel(n_jobs=6)]: Done  38 tasks      | elapsed:   34.0s\n",
      "[Parallel(n_jobs=6)]: Done 188 tasks      | elapsed:  2.9min\n",
      "[Parallel(n_jobs=6)]: Done 420 out of 420 | elapsed:  6.9min finished\n"
     ]
    },
    {
     "name": "stdout",
     "output_type": "stream",
     "text": [
      "{'max_features': 'auto', 'min_samples_split': 2, 'n_estimators': 1000}\n"
     ]
    }
   ],
   "source": [
    "grid = {\"n_estimators\": [100, 200, 300, 500, 1000],\n",
    "        \"min_samples_split\": [2,3,4,5],\n",
    "        \"max_features\": [\"auto\", \"sqrt\", \"log2\"]}\n",
    "\n",
    "forest_params = updateHyperparams(forest, grid)"
   ]
  },
  {
   "cell_type": "markdown",
   "metadata": {},
   "source": [
    "#### Gradient Boosting"
   ]
  },
  {
   "cell_type": "code",
   "execution_count": null,
   "metadata": {},
   "outputs": [],
   "source": [
    "GradientBoostingClassifier?"
   ]
  },
  {
   "cell_type": "code",
   "execution_count": null,
   "metadata": {},
   "outputs": [],
   "source": [
    "grid = {\"n_estimators\": [100, 200, 500],\n",
    "        \"min_samples_split\": [2,3,5],\n",
    "        \"max_features\": [\"auto\", \"sqrt\", \"log2\"]}\n",
    "\n",
    "gboost_params = updateHyperparams(gboost, grid)"
   ]
  },
  {
   "cell_type": "markdown",
   "metadata": {},
   "source": [
    "#### KNN"
   ]
  },
  {
   "cell_type": "code",
   "execution_count": 84,
   "metadata": {},
   "outputs": [
    {
     "name": "stdout",
     "output_type": "stream",
     "text": [
      "Fitting 7 folds for each of 8 candidates, totalling 56 fits\n"
     ]
    },
    {
     "name": "stderr",
     "output_type": "stream",
     "text": [
      "[Parallel(n_jobs=6)]: Using backend LokyBackend with 6 concurrent workers.\n",
      "[Parallel(n_jobs=6)]: Done  45 out of  56 | elapsed:    1.6s remaining:    0.3s\n"
     ]
    },
    {
     "name": "stdout",
     "output_type": "stream",
     "text": [
      "{'algorithm': 'auto', 'weights': 'distance'}\n"
     ]
    },
    {
     "name": "stderr",
     "output_type": "stream",
     "text": [
      "[Parallel(n_jobs=6)]: Done  56 out of  56 | elapsed:    2.0s finished\n"
     ]
    }
   ],
   "source": [
    "grid = {\"weights\": [\"uniform\", \"distance\"],\n",
    "        \"algorithm\": ['auto', 'ball_tree', 'kd_tree', 'brute']}\n",
    "\n",
    "knn_params = updateHyperparams(knn, grid)"
   ]
  },
  {
   "cell_type": "markdown",
   "metadata": {},
   "source": [
    "#### SVC"
   ]
  },
  {
   "cell_type": "code",
   "execution_count": 87,
   "metadata": {},
   "outputs": [
    {
     "name": "stdout",
     "output_type": "stream",
     "text": [
      "Fitting 7 folds for each of 56 candidates, totalling 392 fits\n"
     ]
    },
    {
     "name": "stderr",
     "output_type": "stream",
     "text": [
      "[Parallel(n_jobs=6)]: Using backend LokyBackend with 6 concurrent workers.\n",
      "[Parallel(n_jobs=6)]: Done  38 tasks      | elapsed:    9.6s\n",
      "[Parallel(n_jobs=6)]: Done 188 tasks      | elapsed:   23.4s\n",
      "[Parallel(n_jobs=6)]: Done 392 out of 392 | elapsed:   52.1s finished\n"
     ]
    },
    {
     "name": "stdout",
     "output_type": "stream",
     "text": [
      "{'C': 1, 'gamma': 'auto', 'kernel': 'rbf'}\n"
     ]
    }
   ],
   "source": [
    "grid = {\"C\": [0.0001, 0.0001, 0.001, 0.01, 0.1, 1, 10],\n",
    "        \"kernel\": ['linear', 'poly', 'rbf', 'sigmoid'],\n",
    "        \"gamma\": ['scale', 'auto']\n",
    "       }\n",
    "\n",
    "svc_params = updateHyperparams(svc, grid)"
   ]
  },
  {
   "cell_type": "code",
   "execution_count": null,
   "metadata": {},
   "outputs": [],
   "source": []
  }
 ],
 "metadata": {
  "kernelspec": {
   "display_name": "Python 3",
   "language": "python",
   "name": "python3"
  },
  "language_info": {
   "codemirror_mode": {
    "name": "ipython",
    "version": 3
   },
   "file_extension": ".py",
   "mimetype": "text/x-python",
   "name": "python",
   "nbconvert_exporter": "python",
   "pygments_lexer": "ipython3",
   "version": "3.6.4"
  }
 },
 "nbformat": 4,
 "nbformat_minor": 2
}
